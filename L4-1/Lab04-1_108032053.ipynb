{
  "cells": [
    {
      "cell_type": "markdown",
      "metadata": {
        "id": "6nHeYX31y_Lo"
      },
      "source": [
        "# Lab04-1_108032053"
      ]
    },
    {
      "cell_type": "markdown",
      "metadata": {},
      "source": [
        "## 1. Download data"
      ]
    },
    {
      "cell_type": "code",
      "execution_count": 12,
      "metadata": {
        "colab": {
          "base_uri": "https://localhost:8080/",
          "height": 260
        },
        "id": "inHFdOcWmJyV",
        "outputId": "74bc7686-cb98-483b-f344-59a5ee77008a"
      },
      "outputs": [
        {
          "data": {
            "text/html": [
              "<div>\n",
              "<style scoped>\n",
              "    .dataframe tbody tr th:only-of-type {\n",
              "        vertical-align: middle;\n",
              "    }\n",
              "\n",
              "    .dataframe tbody tr th {\n",
              "        vertical-align: top;\n",
              "    }\n",
              "\n",
              "    .dataframe thead th {\n",
              "        text-align: right;\n",
              "    }\n",
              "</style>\n",
              "<table border=\"1\" class=\"dataframe\">\n",
              "  <thead>\n",
              "    <tr style=\"text-align: right;\">\n",
              "      <th></th>\n",
              "      <th>Sepal length</th>\n",
              "      <th>Sepal width</th>\n",
              "      <th>Petal length</th>\n",
              "      <th>Petal width</th>\n",
              "      <th>Class label</th>\n",
              "    </tr>\n",
              "  </thead>\n",
              "  <tbody>\n",
              "    <tr>\n",
              "      <th>0</th>\n",
              "      <td>5.1</td>\n",
              "      <td>3.5</td>\n",
              "      <td>1.4</td>\n",
              "      <td>0.2</td>\n",
              "      <td>Iris-setosa</td>\n",
              "    </tr>\n",
              "    <tr>\n",
              "      <th>1</th>\n",
              "      <td>4.9</td>\n",
              "      <td>3.0</td>\n",
              "      <td>1.4</td>\n",
              "      <td>0.2</td>\n",
              "      <td>Iris-setosa</td>\n",
              "    </tr>\n",
              "    <tr>\n",
              "      <th>2</th>\n",
              "      <td>4.7</td>\n",
              "      <td>3.2</td>\n",
              "      <td>1.3</td>\n",
              "      <td>0.2</td>\n",
              "      <td>Iris-setosa</td>\n",
              "    </tr>\n",
              "    <tr>\n",
              "      <th>3</th>\n",
              "      <td>4.6</td>\n",
              "      <td>3.1</td>\n",
              "      <td>1.5</td>\n",
              "      <td>0.2</td>\n",
              "      <td>Iris-setosa</td>\n",
              "    </tr>\n",
              "    <tr>\n",
              "      <th>4</th>\n",
              "      <td>5.0</td>\n",
              "      <td>3.6</td>\n",
              "      <td>1.4</td>\n",
              "      <td>0.2</td>\n",
              "      <td>Iris-setosa</td>\n",
              "    </tr>\n",
              "  </tbody>\n",
              "</table>\n",
              "</div>"
            ],
            "text/plain": [
              "   Sepal length  Sepal width  Petal length  Petal width  Class label\n",
              "0           5.1          3.5           1.4          0.2  Iris-setosa\n",
              "1           4.9          3.0           1.4          0.2  Iris-setosa\n",
              "2           4.7          3.2           1.3          0.2  Iris-setosa\n",
              "3           4.6          3.1           1.5          0.2  Iris-setosa\n",
              "4           5.0          3.6           1.4          0.2  Iris-setosa"
            ]
          },
          "metadata": {},
          "output_type": "display_data"
        },
        {
          "name": "stdout",
          "output_type": "stream",
          "text": [
            "# Training data points: 80\n",
            "# Testing data points: 20\n",
            "Class labels: [-1  1]\n"
          ]
        }
      ],
      "source": [
        "import pandas as pd\n",
        "import numpy as np\n",
        "seed = np.random.seed\n",
        "import matplotlib.pyplot as plt\n",
        "from sklearn.metrics import accuracy_score\n",
        "from sklearn.model_selection import train_test_split\n",
        "from sklearn.preprocessing import StandardScaler\n",
        "from IPython.display import display\n",
        "\n",
        "import os\n",
        "if not os.path.exists('./output'):\n",
        "    os.makedirs('./output')\n",
        "\n",
        "df = pd.read_csv('https://archive.ics.uci.edu/ml/'\n",
        "        'machine-learning-databases/iris/iris.data', header=None)\n",
        "df.columns = ['Sepal length', 'Sepal width', 'Petal length', 'Petal width', 'Class label']\n",
        "display(df.head())\n",
        "\n",
        "X = df[['Petal length', 'Petal width']].values\n",
        "y = pd.factorize(df['Class label'])[0]\n",
        "\n",
        "# discard exmaples in the first class\n",
        "X = X[50:150]\n",
        "y = np.where(y[50:150] == 2, -1, y[50:150])\n",
        "\n",
        "X_train, X_test, y_train, y_test = train_test_split(X, y, test_size=0.2, random_state=1)\n",
        "\n",
        "sc = StandardScaler()\n",
        "sc.fit(X_train)\n",
        "X_train_std = sc.transform(X_train)\n",
        "X_test_std = sc.transform(X_test)\n",
        "\n",
        "print('# Training data points: %d' % X_train.shape[0])\n",
        "print('# Testing data points: %d' % X_test.shape[0])\n",
        "print('Class labels: %s' % np.unique(y))"
      ]
    },
    {
      "cell_type": "markdown",
      "metadata": {},
      "source": [
        "## 2. Define model"
      ]
    },
    {
      "cell_type": "code",
      "execution_count": 13,
      "metadata": {
        "id": "M_tR8NJunQFd"
      },
      "outputs": [],
      "source": [
        "class AdalineSGD(object):\n",
        "    \"\"\"ADAptive LInear NEuron classifier.\n",
        "\n",
        "    Parameters\n",
        "    ------------\n",
        "    eta : float\n",
        "        Learning rate (between 0.0 and 1.0)\n",
        "    n_iter : int\n",
        "        Passes over the training dataset.\n",
        "    batch_size : int\n",
        "        Batch size.\n",
        "\n",
        "    Attributes\n",
        "    -----------\n",
        "    w_ : 1d-array\n",
        "        Weights after fitting.\n",
        "    errors_ : list\n",
        "        Number of misclassifications in every epoch.\n",
        "    shuffle : bool (default: True)\n",
        "        Shuffles training data every epoch if True to prevent cycles.\n",
        "    random_state : int\n",
        "        Set random state for shuffling and initializing the weights.\n",
        "\n",
        "    \"\"\"\n",
        "    def __init__(self, eta=0.01, n_iter=50, batch_size=4, shuffle=True, random_state=1):\n",
        "        self.eta = eta\n",
        "        self.n_iter = n_iter\n",
        "        self.batch_size = batch_size\n",
        "        self.w_initialized = False\n",
        "        self.shuffle = shuffle\n",
        "        if random_state : seed(random_state)\n",
        "\n",
        "    def fit(self, X, y):\n",
        "        \"\"\" Fit training data.\n",
        "\n",
        "        Parameters\n",
        "        ----------\n",
        "        X : array-like; shape = [n_samples, n_features]\n",
        "            Training vectors, where n_samples is the number of samples and\n",
        "            n_features is the number of features.\n",
        "        y : array-like; shape = [n_samples]\n",
        "            Target values or labels.\n",
        "\n",
        "        Returns\n",
        "        -------\n",
        "        self : object\n",
        "\n",
        "        \"\"\"\n",
        "        self._initialize_weights(X.shape[1])\n",
        "        self.cost_ = []\n",
        "        num_samples = X.shape[0]\n",
        "        num_chunks = (X.shape[0] + self.batch_size - 1) // self.batch_size\n",
        "        for i in range(self.n_iter):\n",
        "            if self.shuffle:\n",
        "                X, y = self._shuffle(X, y)\n",
        "            cost = []\n",
        "            for i in range(num_chunks):\n",
        "                xi = X[i * self.batch_size: min(num_samples, (i + 1) * self.batch_size)]\n",
        "                yi = y[i * self.batch_size: min(num_samples, (i + 1) * self.batch_size)]\n",
        "                cost.append(self._update_weights(xi, yi))\n",
        "            avg_cost = sum(cost) / len(y)\n",
        "            self.cost_.append(avg_cost)\n",
        "        return self\n",
        "\n",
        "    def _shuffle(self, X, y):\n",
        "        \"\"\"Shuffle training data\"\"\"\n",
        "        r = np.random.permutation(len(y))\n",
        "        return X[r], y[r]\n",
        "\n",
        "    def _initialize_weights(self, m):\n",
        "        \"\"\"Randomly initialize weights\"\"\"\n",
        "        self.w_ = np.random.normal(loc=0.0, scale=0.01, size=1 + m)\n",
        "        self.w_initialized = True\n",
        "\n",
        "    def _update_weights(self, xi, yi):\n",
        "        \"\"\"Apply Adaline learning rule to update the weights\"\"\"\n",
        "        output = self.activation(xi)\n",
        "\n",
        "        # Cost function\n",
        "        error = (yi - output)\n",
        "        cost = (error**2).sum() / 2.0\n",
        "\n",
        "        # Update rule\n",
        "        self.w_[1:] += self.eta * xi.T.dot(error)\n",
        "        self.w_[0] += self.eta * error.sum()\n",
        "\n",
        "        return cost\n",
        "\n",
        "    def net_input(self, X):\n",
        "        \"\"\"Calculate net input\"\"\"\n",
        "        return np.dot(X, self.w_[1:]) + self.w_[0]\n",
        "\n",
        "    def activation(self, X):\n",
        "        \"\"\"Compute linear activation\"\"\"\n",
        "        return self.net_input(X)\n",
        "\n",
        "    def predict(self, X):\n",
        "        \"\"\"Return class label after unit step\"\"\"\n",
        "        return np.where(self.activation(X) >= 0.0, 1, -1)\n",
        "\n",
        "    def partial_fit(self, X, y):\n",
        "        \"\"\"Fit training data without reinitializing the weights\"\"\"\n",
        "        if not self.w_initialized:\n",
        "            self._initialize_weights(X.shape[1])\n",
        "        if y.ravel().shape[0] > 1:\n",
        "            for xi, yi in zip(X, y):\n",
        "                self._update_weights(xi, yi)\n",
        "        else:\n",
        "            self._update_weights(X, y)\n",
        "        return self"
      ]
    },
    {
      "cell_type": "markdown",
      "metadata": {},
      "source": [
        "## 3. Training"
      ]
    },
    {
      "cell_type": "code",
      "execution_count": 14,
      "metadata": {},
      "outputs": [
        {
          "data": {
            "text/plain": [
              "<__main__.AdalineSGD at 0x281200150>"
            ]
          },
          "execution_count": 14,
          "metadata": {},
          "output_type": "execute_result"
        }
      ],
      "source": [
        "batch_size = [1, 10, 40]\n",
        "\n",
        "adas1 = AdalineSGD(batch_size=batch_size[0], n_iter=10, eta=0.01, random_state=1)\n",
        "adas1.fit(X_train_std, y_train)\n",
        "\n",
        "adas2 = AdalineSGD(batch_size=batch_size[1], n_iter=10, eta=0.01, random_state=1)\n",
        "adas2.fit(X_train_std, y_train)\n",
        "\n",
        "adas3 = AdalineSGD(batch_size=batch_size[2], n_iter=10, eta=0.01, random_state=1)\n",
        "adas3.fit(X_train_std, y_train)"
      ]
    },
    {
      "cell_type": "markdown",
      "metadata": {},
      "source": [
        "## 4. Result"
      ]
    },
    {
      "cell_type": "code",
      "execution_count": 15,
      "metadata": {
        "colab": {
          "base_uri": "https://localhost:8080/",
          "height": 701
        },
        "id": "UtiBUMUinhcx",
        "outputId": "7b123031-988a-4822-b1be-55f7c5d13580"
      },
      "outputs": [
        {
          "data": {
            "image/png": "[encoded data removed]",
            "text/plain": [
              "<Figure size 640x480 with 1 Axes>"
            ]
          },
          "metadata": {},
          "output_type": "display_data"
        },
        {
          "name": "stdout",
          "output_type": "stream",
          "text": [
            "For batch size = 1\n",
            "Misclassified samples: 3\n",
            "Accuracy: 0.85\n",
            "\n",
            "For batch size = 10\n",
            "Misclassified samples: 3\n",
            "Accuracy: 0.85\n",
            "\n",
            "For batch size = 40\n",
            "Misclassified samples: 3\n",
            "Accuracy: 0.85\n",
            "\n"
          ]
        }
      ],
      "source": [
        "# Cost values\n",
        "plt.plot(range(1, len(adas1.cost_) + 1), adas1.cost_,\n",
        "         marker='o', label=f'M = {batch_size[0]}')\n",
        "plt.plot(range(1, len(adas2.cost_) + 1), adas2.cost_,\n",
        "         marker='x', label=f'M = {batch_size[1]}')\n",
        "plt.plot(range(1, len(adas3.cost_) + 1), adas3.cost_,\n",
        "         marker='s', label=f'M = {batch_size[2]}')\n",
        "plt.title('Cost (with different M)')\n",
        "plt.xlabel('Epochs')\n",
        "plt.ylabel('Sum-squared-error')\n",
        "plt.legend(loc='upper right')\n",
        "\n",
        "plt.tight_layout()\n",
        "plt.savefig('./output/Lab04-1_108032053.png', dpi=300)\n",
        "plt.show()\n",
        "\n",
        "# Testing accuracy\n",
        "y_pred1 = adas1.predict(X_test_std)\n",
        "print('For batch size = %d' % batch_size[0])\n",
        "print('Misclassified samples: %d' % (y_test != y_pred1).sum())\n",
        "print('Accuracy: %.2f\\n' % accuracy_score(y_test, y_pred1))\n",
        "\n",
        "y_pred2 = adas2.predict(X_test_std)\n",
        "print('For batch size = %d' % batch_size[1])\n",
        "print('Misclassified samples: %d' % (y_test != y_pred2).sum())\n",
        "print('Accuracy: %.2f\\n' % accuracy_score(y_test, y_pred2))\n",
        "\n",
        "y_pred3 = adas3.predict(X_test_std)\n",
        "print('For batch size = %d' % batch_size[2])\n",
        "print('Misclassified samples: %d' % (y_test != y_pred3).sum())\n",
        "print('Accuracy: %.2f\\n' % accuracy_score(y_test, y_pred3))"
      ]
    }
  ],
  "metadata": {
    "colab": {
      "provenance": []
    },
    "kernelspec": {
      "display_name": "Python 3",
      "name": "python3"
    },
    "language_info": {
      "codemirror_mode": {
        "name": "ipython",
        "version": 3
      },
      "file_extension": ".py",
      "mimetype": "text/x-python",
      "name": "python",
      "nbconvert_exporter": "python",
      "pygments_lexer": "ipython3",
      "version": "3.11.6"
    }
  },
  "nbformat": 4,
  "nbformat_minor": 0
}
