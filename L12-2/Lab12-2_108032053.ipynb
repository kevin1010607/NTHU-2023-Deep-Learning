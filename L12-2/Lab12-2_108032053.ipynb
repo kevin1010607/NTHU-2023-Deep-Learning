{
 "cells": [
  {
   "cell_type": "markdown",
   "id": "74ad2c24",
   "metadata": {},
   "source": [
    "# Lab12-2_108032053"
   ]
  },
  {
   "cell_type": "markdown",
   "id": "e8498b33",
   "metadata": {},
   "source": [
    "## 1. Download data"
   ]
  },
  {
   "cell_type": "code",
   "execution_count": 2,
   "id": "6d13d718",
   "metadata": {},
   "outputs": [],
   "source": [
    "# You'll generate plots of attention in order to see which parts of an image\n",
    "# our model focuses on during captioning\n",
    "import matplotlib.pyplot as plt\n",
    "\n",
    "# Scikit-learn includes many helpful utilities\n",
    "from sklearn.model_selection import train_test_split\n",
    "from sklearn.utils import shuffle\n",
    "\n",
    "import tensorflow as tf\n",
    "import re\n",
    "import numpy as np\n",
    "import os\n",
    "import time\n",
    "import json\n",
    "from glob import glob\n",
    "from PIL import Image\n",
    "import pickle\n",
    "from tqdm import tqdm\n",
    "\n",
    "os.environ['TF_ENABLE_AUTO_MIXED_PRECISION'] = '0'\n",
    "os.environ['TF_XLA_FLAGS'] = '--tf_xla_auto_jit=2 --tf_xla_cpu_global_jit'"
   ]
  },
  {
   "cell_type": "code",
   "execution_count": 2,
   "id": "a302b728",
   "metadata": {},
   "outputs": [
    {
     "name": "stderr",
     "output_type": "stream",
     "text": [
      "Downloading...\n",
      "From (uriginal): https://drive.google.com/u/1/uc?id=1mHfyM6idetIO0SO-7Aph1opWbveSeDD-&export=download\n",
      "From (redirected): https://drive.google.com/uc?id=1mHfyM6idetIO0SO-7Aph1opWbveSeDD-&export=download&confirm=t&uuid=326e451e-6595-4f21-bad6-c60da10fb83b\n",
      "To: /home/u6180060/DL/L12-2/data/words_captcha.zip\n",
      "100%|██████████| 4.63G/4.63G [00:19<00:00, 235MB/s]\n"
     ]
    },
    {
     "name": "stdout",
     "output_type": "stream",
     "text": [
      "Donwload successfully.\n"
     ]
    }
   ],
   "source": [
    "import zipfile\n",
    "\n",
    "DOWNLOAD_URL_1 = \"https://drive.google.com/u/1/uc?id=1mHfyM6idetIO0SO-7Aph1opWbveSeDD-&export=download\"\n",
    "\n",
    "if not os.path.exists(\"data\"):\n",
    "    os.mkdir(\"data\")   \n",
    "\n",
    "if not os.path.exists(\"data/words_captcha\"):\n",
    "    try:\n",
    "        import gdown\n",
    "        gdown.download(DOWNLOAD_URL_1, \"data/words_captcha.zip\")\n",
    "        with zipfile.ZipFile(\"data/words_captcha.zip\", \"r\") as f:\n",
    "            f.extractall(\"data\")\n",
    "        print(\"Donwload successfully.\")\n",
    "    except:\n",
    "        print(\"Can't download the file.\")"
   ]
  },
  {
   "cell_type": "markdown",
   "id": "fddab073",
   "metadata": {},
   "source": [
    "## 2. Preprocess data"
   ]
  },
  {
   "cell_type": "code",
   "execution_count": 3,
   "id": "78bb1de0",
   "metadata": {},
   "outputs": [
    {
     "name": "stdout",
     "output_type": "stream",
     "text": [
      "100000 20000\n",
      "['./data/words_captcha/a0.png', './data/words_captcha/a1.png', './data/words_captcha/a2.png']\n",
      "['thus', 'www', 'tied']\n",
      "['./data/words_captcha/a100000.png', './data/words_captcha/a100001.png', './data/words_captcha/a100002.png']\n",
      "['cio', 'gmt', 'lives']\n"
     ]
    }
   ],
   "source": [
    "annotation_file = './data/words_captcha/spec_train_val.txt'\n",
    "data_dir = './data/words_captcha/'\n",
    "\n",
    "all_img_name = []\n",
    "all_target = []\n",
    "\n",
    "with open(annotation_file) as file:\n",
    "    for line in file.readlines():\n",
    "        image_id, target = line.split()\n",
    "        all_img_name.append(data_dir + image_id + '.png')\n",
    "        all_target.append(target)\n",
    "\n",
    "img_name_train = all_img_name[:100000]\n",
    "target_train = all_target[:100000]\n",
    "img_name_val = all_img_name[100000:]\n",
    "target_val = all_target[100000:]\n",
    "\n",
    "print(len(img_name_train), len(img_name_val))\n",
    "print(img_name_train[:3])\n",
    "print(target_train[:3])\n",
    "print(img_name_val[:3])\n",
    "print(target_val[:3])"
   ]
  },
  {
   "cell_type": "code",
   "execution_count": 4,
   "id": "d745acaa",
   "metadata": {},
   "outputs": [],
   "source": [
    "tokenizer = tf.keras.preprocessing.text.Tokenizer(char_level=True)\n",
    "tokenizer.fit_on_texts(target_train)\n",
    "\n",
    "tokenizer.word_index[' '] = 0\n",
    "tokenizer.index_word[0] = ' '"
   ]
  },
  {
   "cell_type": "code",
   "execution_count": 5,
   "id": "70e746a0",
   "metadata": {},
   "outputs": [
    {
     "name": "stdout",
     "output_type": "stream",
     "text": [
      "5\n",
      "[[ 6 15 14  3  0]\n",
      " [21 21 21  0  0]\n",
      " [ 6  5  1 10  0]]\n"
     ]
    }
   ],
   "source": [
    "seqs_train = tokenizer.texts_to_sequences(target_train)\n",
    "cap_train = tf.keras.preprocessing.sequence.pad_sequences(seqs_train, padding='post')\n",
    "\n",
    "seqs_val = tokenizer.texts_to_sequences(target_val)\n",
    "cap_val = tf.keras.preprocessing.sequence.pad_sequences(seqs_val, padding='post')\n",
    "\n",
    "max_length = max(len(t) for t in cap_train)\n",
    "\n",
    "print(max_length)\n",
    "print(cap_train[:3])"
   ]
  },
  {
   "cell_type": "code",
   "execution_count": 6,
   "id": "66c92b61",
   "metadata": {},
   "outputs": [],
   "source": [
    "BATCH_SIZE = 100\n",
    "BUFFER_SIZE = 5000\n",
    "embedding_dim = 256\n",
    "units = 512\n",
    "vocab_size = len(tokenizer.word_index)\n",
    "num_steps = len(img_name_train) // BATCH_SIZE\n",
    "LEARNING_RATE = 1e-4\n",
    "\n",
    "# Shape of the vector extracted from InceptionV3 is (64, 2048)\n",
    "# These two variables represent that vector shape\n",
    "features_shape = 2560\n",
    "attention_features_shape = 37"
   ]
  },
  {
   "cell_type": "code",
   "execution_count": 7,
   "id": "79875109",
   "metadata": {},
   "outputs": [],
   "source": [
    "IMAGE_WIDTH = 300\n",
    "IMAGE_HEIGHT = 160\n",
    "\n",
    "def load_image(image_path):\n",
    "    img = tf.io.read_file(image_path)\n",
    "    img = tf.image.decode_png(img, channels=3)\n",
    "    img = tf.image.resize(img, (IMAGE_WIDTH, IMAGE_HEIGHT))\n",
    "    img = (img / 255) * 2 - 1\n",
    "    return img, image_path"
   ]
  },
  {
   "cell_type": "code",
   "execution_count": 8,
   "id": "3e792042",
   "metadata": {},
   "outputs": [],
   "source": [
    "# Load the numpy files\n",
    "def map_func(img_name, cap):\n",
    "#     img_tensor = np.load(img_name.decode('utf-8')+'.npy')\n",
    "    img, img_path = load_image(img_name)\n",
    "    return img, cap"
   ]
  },
  {
   "cell_type": "code",
   "execution_count": 9,
   "id": "223db5b1",
   "metadata": {},
   "outputs": [
    {
     "name": "stderr",
     "output_type": "stream",
     "text": [
      "2023-11-29 05:09:04.014974: I tensorflow/core/common_runtime/gpu/gpu_device.cc:1636] Created device /job:localhost/replica:0/task:0/device:GPU:0 with 31136 MB memory:  -> device: 0, name: Tesla V100-SXM2-32GB, pci bus id: 0000:3e:00.0, compute capability: 7.0\n"
     ]
    }
   ],
   "source": [
    "dataset = tf.data.Dataset.from_tensor_slices((img_name_train, cap_train))\n",
    "\n",
    "# Use map to load the numpy files in parallel\n",
    "dataset = dataset.map(lambda item1, item2: tf.numpy_function(\n",
    "          map_func, [item1, item2], [tf.float32, tf.int32]),\n",
    "          num_parallel_calls=tf.data.experimental.AUTOTUNE)\n",
    "\n",
    "# Shuffle and batch\n",
    "dataset = dataset.shuffle(BUFFER_SIZE).batch(BATCH_SIZE)\n",
    "dataset = dataset.prefetch(buffer_size=tf.data.experimental.AUTOTUNE)"
   ]
  },
  {
   "cell_type": "markdown",
   "id": "ad441b08",
   "metadata": {},
   "source": [
    "## 3. Define model"
   ]
  },
  {
   "cell_type": "code",
   "execution_count": 10,
   "id": "bbc5f4be",
   "metadata": {},
   "outputs": [],
   "source": [
    "class FeatureExtractor(tf.keras.Model):\n",
    "    def __init__(self):\n",
    "        super(FeatureExtractor, self).__init__()\n",
    "        self.conv1 = tf.keras.layers.Conv2D(\n",
    "            32,\n",
    "            (3, 3),\n",
    "            activation=\"relu\",\n",
    "            kernel_initializer=\"he_normal\",\n",
    "            padding=\"same\",\n",
    "            input_shape=(IMAGE_WIDTH, IMAGE_HEIGHT, 3)\n",
    "        )\n",
    "        self.maxpool1 = tf.keras.layers.MaxPooling2D()\n",
    "\n",
    "        self.conv2 = tf.keras.layers.Conv2D(\n",
    "            64,\n",
    "            (3, 3),\n",
    "            activation=\"relu\",\n",
    "            kernel_initializer=\"he_normal\",\n",
    "            padding=\"same\",\n",
    "        )\n",
    "        self.maxpool2 = tf.keras.layers.MaxPooling2D()\n",
    "        \n",
    "        self.conv3 = tf.keras.layers.Conv2D(\n",
    "            128,\n",
    "            (3, 3),\n",
    "            activation=\"relu\",\n",
    "            kernel_initializer=\"he_normal\",\n",
    "            padding=\"same\",\n",
    "        )\n",
    "        self.maxpool3 = tf.keras.layers.MaxPooling2D()\n",
    "        \n",
    "        new_shape = (IMAGE_WIDTH // 8, (IMAGE_HEIGHT) // 8 * 128)\n",
    "        self.reshape = tf.keras.layers.Reshape(target_shape=new_shape)\n",
    "        \n",
    "    def call(self, inputs):\n",
    "        x = self.conv1(inputs)\n",
    "        x = self.maxpool1(x)\n",
    "        x = self.conv2(x)\n",
    "        x = self.maxpool2(x)\n",
    "        x = self.conv3(x)\n",
    "        x = self.maxpool3(x)\n",
    "        x = self.reshape(x)\n",
    "        return x\n",
    "    \n",
    "    def summary(self):\n",
    "        inputs = tf.keras.Input(shape=(IMAGE_WIDTH, IMAGE_HEIGHT, 3))\n",
    "        model = tf.keras.Model(name='feature_extractor', inputs=inputs, outputs=self.call(inputs))\n",
    "        return model.summary()"
   ]
  },
  {
   "cell_type": "code",
   "execution_count": 11,
   "id": "5062b9e0",
   "metadata": {},
   "outputs": [],
   "source": [
    "class BahdanauAttention(tf.keras.Model):\n",
    "    def __init__(self, units):\n",
    "        super(BahdanauAttention, self).__init__()\n",
    "        self.W1 = tf.keras.layers.Dense(units)\n",
    "        self.W2 = tf.keras.layers.Dense(units)\n",
    "        self.V = tf.keras.layers.Dense(1)\n",
    "\n",
    "    def call(self, features, hidden):\n",
    "        # features(CNN_encoder output) shape == (batch_size, 64, embedding_dim)\n",
    "\n",
    "        # hidden shape == (batch_size, hidden_size)\n",
    "        # hidden_with_time_axis shape == (batch_size, 1, hidden_size)\n",
    "        hidden_with_time_axis = tf.expand_dims(hidden, 1)\n",
    "\n",
    "        # score shape == (batch_size, 64, hidden_size)\n",
    "        score = tf.nn.tanh(self.W1(features) + self.W2(hidden_with_time_axis))\n",
    "\n",
    "        # attention_weights shape == (batch_size, 64, 1)\n",
    "        # you get 1 at the last axis because you are applying score to self.V\n",
    "        attention_weights = tf.nn.softmax(self.V(score), axis=1)\n",
    "\n",
    "        # context_vector shape after sum == (batch_size, hidden_size)\n",
    "        context_vector = attention_weights * features\n",
    "        context_vector = tf.reduce_sum(context_vector, axis=1)\n",
    "\n",
    "        return context_vector, attention_weights"
   ]
  },
  {
   "cell_type": "code",
   "execution_count": 12,
   "id": "dc2221f5",
   "metadata": {},
   "outputs": [],
   "source": [
    "class CNN_Encoder(tf.keras.Model):\n",
    "    # Since you have already extracted the features and dumped it using pickle\n",
    "    # This encoder passes those features through a Fully connected layer\n",
    "    def __init__(self, embedding_dim):\n",
    "        super(CNN_Encoder, self).__init__()\n",
    "        # shape after fc == (batch_size, 64, embedding_dim)\n",
    "        self.fc = tf.keras.layers.Dense(embedding_dim)\n",
    "\n",
    "    def call(self, x):\n",
    "        x = self.fc(x)\n",
    "        x = tf.nn.relu(x)\n",
    "        return x"
   ]
  },
  {
   "cell_type": "code",
   "execution_count": 13,
   "id": "f33c3333",
   "metadata": {},
   "outputs": [],
   "source": [
    "class RNN_Decoder(tf.keras.Model):\n",
    "    def __init__(self, embedding_dim, units, vocab_size):\n",
    "        super(RNN_Decoder, self).__init__()\n",
    "        self.units = units\n",
    "\n",
    "        self.embedding = tf.keras.layers.Embedding(vocab_size, embedding_dim)\n",
    "        self.gru = tf.keras.layers.GRU(self.units,\n",
    "                                       return_sequences=True,\n",
    "                                       return_state=True,\n",
    "                                       recurrent_initializer='glorot_uniform')\n",
    "        self.fc1 = tf.keras.layers.Dense(self.units)\n",
    "        self.fc2 = tf.keras.layers.Dense(vocab_size)\n",
    "\n",
    "        self.attention = BahdanauAttention(self.units)\n",
    "\n",
    "    def call(self, x, features, hidden):\n",
    "        # defining attention as a separate model\n",
    "        context_vector, attention_weights = self.attention(features, hidden)\n",
    "\n",
    "        # x shape after passing through embedding == (batch_size, 1, embedding_dim)\n",
    "        x = self.embedding(x)\n",
    "\n",
    "        # x shape after concatenation == (batch_size, 1, embedding_dim + hidden_size)\n",
    "        x = tf.concat([tf.expand_dims(context_vector, 1), x], axis=-1)\n",
    "\n",
    "        # passing the concatenated vector to the GRU\n",
    "        output, state = self.gru(x)\n",
    "\n",
    "        # shape == (batch_size, max_length, hidden_size)\n",
    "        x = self.fc1(output)\n",
    "\n",
    "        # x shape == (batch_size * max_length, hidden_size)\n",
    "        x = tf.reshape(x, (-1, x.shape[2]))\n",
    "\n",
    "        # output shape == (batch_size * max_length, vocab)\n",
    "        x = self.fc2(x)\n",
    "\n",
    "        return x, state, attention_weights\n",
    "\n",
    "    def reset_state(self, batch_size):\n",
    "        return tf.zeros((batch_size, self.units))"
   ]
  },
  {
   "cell_type": "code",
   "execution_count": 14,
   "id": "334dc97e",
   "metadata": {},
   "outputs": [
    {
     "name": "stdout",
     "output_type": "stream",
     "text": [
      "Model: \"feature_extractor\"\n",
      "_________________________________________________________________\n",
      " Layer (type)                Output Shape              Param #   \n",
      "=================================================================\n",
      " input_1 (InputLayer)        [(None, 300, 160, 3)]     0         \n",
      "                                                                 \n",
      " conv2d (Conv2D)             (None, 300, 160, 32)      896       \n",
      "                                                                 \n",
      " max_pooling2d (MaxPooling2  (None, 150, 80, 32)       0         \n",
      " D)                                                              \n",
      "                                                                 \n",
      " conv2d_1 (Conv2D)           (None, 150, 80, 64)       18496     \n",
      "                                                                 \n",
      " max_pooling2d_1 (MaxPoolin  (None, 75, 40, 64)        0         \n",
      " g2D)                                                            \n",
      "                                                                 \n",
      " conv2d_2 (Conv2D)           (None, 75, 40, 128)       73856     \n",
      "                                                                 \n",
      " max_pooling2d_2 (MaxPoolin  (None, 37, 20, 128)       0         \n",
      " g2D)                                                            \n",
      "                                                                 \n",
      " reshape (Reshape)           (None, 37, 2560)          0         \n",
      "                                                                 \n",
      "=================================================================\n",
      "Total params: 93248 (364.25 KB)\n",
      "Trainable params: 93248 (364.25 KB)\n",
      "Non-trainable params: 0 (0.00 Byte)\n",
      "_________________________________________________________________\n"
     ]
    }
   ],
   "source": [
    "feature_extractor = FeatureExtractor()\n",
    "encoder = CNN_Encoder(embedding_dim)\n",
    "decoder = RNN_Decoder(embedding_dim, units, vocab_size)\n",
    "\n",
    "feature_extractor.summary()"
   ]
  },
  {
   "cell_type": "code",
   "execution_count": 15,
   "id": "1265e4a8",
   "metadata": {},
   "outputs": [],
   "source": [
    "optimizer = tf.keras.optimizers.Adam(LEARNING_RATE)\n",
    "loss_object = tf.keras.losses.SparseCategoricalCrossentropy(\n",
    "    from_logits=True, reduction='none')\n",
    "\n",
    "def loss_function(real, pred):\n",
    "    loss_ = loss_object(real, pred)\n",
    "\n",
    "    return tf.reduce_sum(loss_)"
   ]
  },
  {
   "cell_type": "code",
   "execution_count": 16,
   "id": "3e99d24a",
   "metadata": {},
   "outputs": [],
   "source": [
    "checkpoint_path = \"./ckpt\"\n",
    "ckpt = tf.train.Checkpoint(feature_extractor=feature_extractor,\n",
    "                           encoder=encoder,\n",
    "                           decoder=decoder,\n",
    "                           optimizer=optimizer)\n",
    "ckpt_manager = tf.train.CheckpointManager(ckpt, checkpoint_path, max_to_keep=3)"
   ]
  },
  {
   "cell_type": "code",
   "execution_count": 17,
   "id": "b139207d",
   "metadata": {},
   "outputs": [
    {
     "name": "stdout",
     "output_type": "stream",
     "text": [
      "./ckpt/ckpt-50\n"
     ]
    }
   ],
   "source": [
    "start_epoch = 0\n",
    "if ckpt_manager.latest_checkpoint:\n",
    "    start_epoch = int(ckpt_manager.latest_checkpoint.split('-')[-1])\n",
    "    ckpt.restore(ckpt_manager.latest_checkpoint)\n",
    "    print(ckpt_manager.latest_checkpoint)"
   ]
  },
  {
   "cell_type": "markdown",
   "id": "75c0f2fb",
   "metadata": {},
   "source": [
    "## 4. Training"
   ]
  },
  {
   "cell_type": "code",
   "execution_count": 18,
   "id": "b2d75c77",
   "metadata": {},
   "outputs": [],
   "source": [
    "# adding this in a separate cell because if you run the training cell\n",
    "# many times, the loss_plot array will be reset\n",
    "loss_plot = []"
   ]
  },
  {
   "cell_type": "code",
   "execution_count": 19,
   "id": "a74d52a5",
   "metadata": {},
   "outputs": [],
   "source": [
    "@tf.function\n",
    "def train_step(img_tensor, target):\n",
    "    loss = 0\n",
    "\n",
    "    # initializing the hidden state for each batch\n",
    "    # because the captions are not related from image to image\n",
    "    hidden = decoder.reset_state(batch_size=target.shape[0])\n",
    "\n",
    "    dec_input = tf.expand_dims([tokenizer.word_index[' ']] * BATCH_SIZE, 1)\n",
    "\n",
    "    with tf.GradientTape() as tape:\n",
    "        feature_extract = feature_extractor(img_tensor)\n",
    "        features = encoder(feature_extract)\n",
    "\n",
    "        for i in range(0, target.shape[1]):\n",
    "            # passing the features through the decoder\n",
    "            predictions, hidden, _ = decoder(dec_input, features, hidden)\n",
    "\n",
    "            loss += loss_function(target[:, i], predictions)\n",
    "\n",
    "            # using teacher forcing\n",
    "            dec_input = tf.expand_dims(target[:, i], 1)\n",
    "\n",
    "    total_loss = (loss / int(target.shape[1]))\n",
    "\n",
    "    trainable_variables = feature_extractor.trainable_variables + encoder.trainable_variables + decoder.trainable_variables\n",
    "\n",
    "    gradients = tape.gradient(loss, trainable_variables)\n",
    "\n",
    "    optimizer.apply_gradients(zip(gradients, trainable_variables))\n",
    "\n",
    "    return loss, total_loss"
   ]
  },
  {
   "cell_type": "code",
   "execution_count": 20,
   "id": "80777596",
   "metadata": {},
   "outputs": [
    {
     "name": "stderr",
     "output_type": "stream",
     "text": [
      "  0%|          | 0/1000 [00:00<?, ?it/s]2023-11-29 03:21:31.714901: I tensorflow/core/kernels/data/shuffle_dataset_op.cc:422] Filling up shuffle buffer (this may take a while): 3135 of 5000\n",
      "2023-11-29 03:21:37.510130: I tensorflow/core/kernels/data/shuffle_dataset_op.cc:450] Shuffle buffer filled.\n",
      "2023-11-29 03:21:42.922687: I tensorflow/compiler/xla/service/service.cc:168] XLA service 0x7f09d8004740 initialized for platform CUDA (this does not guarantee that XLA will be used). Devices:\n",
      "2023-11-29 03:21:42.922741: I tensorflow/compiler/xla/service/service.cc:176]   StreamExecutor device (0): Tesla V100-SXM2-32GB, Compute Capability 7.0\n",
      "2023-11-29 03:21:42.945102: I tensorflow/compiler/mlir/tensorflow/utils/dump_mlir_util.cc:255] disabling MLIR crash reproducer, set env var `MLIR_CRASH_REPRODUCER_DIRECTORY` to enable.\n",
      "2023-11-29 03:21:42.957353: I tensorflow/compiler/xla/stream_executor/cuda/cuda_dnn.cc:432] Loaded cuDNN version 8904\n",
      "2023-11-29 03:21:43.045902: I ./tensorflow/compiler/jit/device_compiler.h:186] Compiled cluster using XLA!  This line is logged at most once for the lifetime of the process.\n",
      "100%|██████████| 1000/1000 [08:13<00:00,  2.03it/s]\n"
     ]
    },
    {
     "name": "stdout",
     "output_type": "stream",
     "text": [
      "Epoch 51 Loss 1.492384\n"
     ]
    },
    {
     "name": "stderr",
     "output_type": "stream",
     "text": [
      "100%|██████████| 1000/1000 [02:38<00:00,  6.31it/s]\n"
     ]
    },
    {
     "name": "stdout",
     "output_type": "stream",
     "text": [
      "Epoch 52 Loss 2.338949\n"
     ]
    },
    {
     "name": "stderr",
     "output_type": "stream",
     "text": [
      "100%|██████████| 1000/1000 [02:38<00:00,  6.33it/s]\n"
     ]
    },
    {
     "name": "stdout",
     "output_type": "stream",
     "text": [
      "Epoch 53 Loss 1.171984\n"
     ]
    },
    {
     "name": "stderr",
     "output_type": "stream",
     "text": [
      "100%|██████████| 1000/1000 [02:38<00:00,  6.33it/s]\n"
     ]
    },
    {
     "name": "stdout",
     "output_type": "stream",
     "text": [
      "Epoch 54 Loss 1.695133\n"
     ]
    },
    {
     "name": "stderr",
     "output_type": "stream",
     "text": [
      "100%|██████████| 1000/1000 [02:38<00:00,  6.32it/s]\n"
     ]
    },
    {
     "name": "stdout",
     "output_type": "stream",
     "text": [
      "Epoch 55 Loss 1.686758\n"
     ]
    },
    {
     "name": "stderr",
     "output_type": "stream",
     "text": [
      "100%|██████████| 1000/1000 [02:35<00:00,  6.41it/s]\n"
     ]
    },
    {
     "name": "stdout",
     "output_type": "stream",
     "text": [
      "Epoch 56 Loss 1.596829\n"
     ]
    },
    {
     "name": "stderr",
     "output_type": "stream",
     "text": [
      "100%|██████████| 1000/1000 [02:38<00:00,  6.33it/s]\n"
     ]
    },
    {
     "name": "stdout",
     "output_type": "stream",
     "text": [
      "Epoch 57 Loss 1.436024\n"
     ]
    },
    {
     "name": "stderr",
     "output_type": "stream",
     "text": [
      "100%|██████████| 1000/1000 [02:37<00:00,  6.34it/s]\n"
     ]
    },
    {
     "name": "stdout",
     "output_type": "stream",
     "text": [
      "Epoch 58 Loss 1.564807\n"
     ]
    },
    {
     "name": "stderr",
     "output_type": "stream",
     "text": [
      "100%|██████████| 1000/1000 [02:37<00:00,  6.33it/s]\n"
     ]
    },
    {
     "name": "stdout",
     "output_type": "stream",
     "text": [
      "Epoch 59 Loss 1.591037\n"
     ]
    },
    {
     "name": "stderr",
     "output_type": "stream",
     "text": [
      " 16%|█▌        | 159/1000 [00:31<02:10,  6.46it/s]"
     ]
    }
   ],
   "source": [
    "from tqdm import tqdm\n",
    "EPOCHS = 80\n",
    "start = time.time()\n",
    "for epoch in range(start_epoch, EPOCHS):\n",
    "    \n",
    "    total_loss = 0\n",
    "\n",
    "    for (batch, (img_tensor, target)) in tqdm(enumerate(dataset), total=num_steps):\n",
    "        batch_loss, t_loss = train_step(img_tensor, target)\n",
    "        total_loss += t_loss\n",
    "\n",
    "#         if batch % 100 == 0:\n",
    "#             print ('Epoch {} Batch {} Loss {:.4f}'.format(\n",
    "#               epoch + 1, batch, batch_loss.numpy() / int(target.shape[1])))\n",
    "    # storing the epoch end loss value to plot later\n",
    "    loss_plot.append(total_loss / num_steps)\n",
    "\n",
    "    if epoch % 1 == 0:\n",
    "        ckpt_manager.save()\n",
    "\n",
    "    print ('Epoch {} Loss {:.6f}'.format(epoch + 1,\n",
    "                                         total_loss/num_steps))\n",
    "print ('Time taken for {} epoch {} sec\\n'.format(EPOCHS, time.time() - start))"
   ]
  },
  {
   "cell_type": "code",
   "execution_count": 33,
   "id": "fe2dbc02",
   "metadata": {},
   "outputs": [
    {
     "data": {
      "image/png": "[encoded data removed]",
      "text/plain": [
       "<Figure size 640x480 with 1 Axes>"
      ]
     },
     "metadata": {},
     "output_type": "display_data"
    }
   ],
   "source": [
    "plt.plot(loss_plot)\n",
    "plt.xlabel('Epochs')\n",
    "plt.ylabel('Loss')\n",
    "plt.title('Loss Plot')\n",
    "plt.show()"
   ]
  },
  {
   "cell_type": "markdown",
   "id": "84a04f59",
   "metadata": {},
   "source": [
    "## 5. Validate"
   ]
  },
  {
   "cell_type": "code",
   "execution_count": 16,
   "id": "d6772122",
   "metadata": {},
   "outputs": [
    {
     "name": "stdout",
     "output_type": "stream",
     "text": [
      "./ckpt/ckpt-80\n"
     ]
    }
   ],
   "source": [
    "checkpoint_path = \"./ckpt\"\n",
    "ckpt = tf.train.Checkpoint(feature_extractor=feature_extractor,\n",
    "                           encoder=encoder,\n",
    "                           decoder=decoder,\n",
    "                           optimizer=optimizer)\n",
    "ckpt_manager = tf.train.CheckpointManager(ckpt, checkpoint_path, max_to_keep=3)\n",
    "\n",
    "if ckpt_manager.latest_checkpoint:\n",
    "    ckpt.restore(ckpt_manager.latest_checkpoint)\n",
    "    print(ckpt_manager.latest_checkpoint)"
   ]
  },
  {
   "cell_type": "code",
   "execution_count": 17,
   "id": "96e3deeb",
   "metadata": {},
   "outputs": [],
   "source": [
    "def evaluate(image):\n",
    "    attention_plot = np.zeros((max_length, attention_features_shape))\n",
    "\n",
    "    hidden = decoder.reset_state(batch_size=1)\n",
    "\n",
    "    temp_input = tf.expand_dims(load_image(image)[0], 0)\n",
    "    img_tensor_val = feature_extractor(temp_input)\n",
    "#     img_tensor_val = tf.reshape(img_tensor_val, (img_tensor_val.shape[0], -1, img_tensor_val.shape[3]))\n",
    "\n",
    "    features = encoder(img_tensor_val)\n",
    "\n",
    "    dec_input = tf.expand_dims([tokenizer.word_index[' ']], 0)\n",
    "    result = []\n",
    "\n",
    "    for i in range(max_length):\n",
    "        predictions, hidden, attention_weights = decoder(dec_input, features, hidden)\n",
    "\n",
    "        attention_plot[i] = tf.reshape(attention_weights, (-1, )).numpy()\n",
    "\n",
    "        predicted_id = tf.argmax(predictions[0]).numpy()\n",
    "\n",
    "        if tokenizer.index_word[predicted_id] == ' ':\n",
    "            return result, attention_plot\n",
    "        \n",
    "        result.append(tokenizer.index_word[predicted_id])\n",
    "\n",
    "        dec_input = tf.expand_dims([predicted_id], 0)\n",
    "\n",
    "    attention_plot = attention_plot[:len(result), :]\n",
    "    return result, attention_plot"
   ]
  },
  {
   "cell_type": "code",
   "execution_count": 18,
   "id": "065e4b18",
   "metadata": {},
   "outputs": [],
   "source": [
    "def plot_attention(image, result, attention_plot):\n",
    "    temp_image = np.array(Image.open(image))\n",
    "\n",
    "    fig = plt.figure(figsize=(10, 10))\n",
    "\n",
    "    len_result = len(result)\n",
    "    for l in range(len_result):\n",
    "        temp_att = np.resize(attention_plot[l], (8, 8))\n",
    "        ax = fig.add_subplot(1, len_result, l+1)\n",
    "        ax.set_title(result[l])\n",
    "        img = ax.imshow(temp_image)\n",
    "        ax.imshow(temp_att, cmap='gray', alpha=0.6, extent=img.get_extent())\n",
    "\n",
    "    plt.tight_layout()\n",
    "    plt.show()"
   ]
  },
  {
   "cell_type": "code",
   "execution_count": 34,
   "id": "424f3e1d",
   "metadata": {},
   "outputs": [
    {
     "name": "stdout",
     "output_type": "stream",
     "text": [
      "Real Captcha: steps\n",
      "Prediction Captcha: steps\n"
     ]
    },
    {
     "data": {
      "image/png": "[encoded data removed]",
      "text/plain": [
       "<Figure size 1000x1000 with 5 Axes>"
      ]
     },
     "metadata": {},
     "output_type": "display_data"
    }
   ],
   "source": [
    "# captions on the validation set\n",
    "rid = np.random.randint(0, len(img_name_val))\n",
    "image = img_name_val[rid]\n",
    "real_captcha = ''.join([tokenizer.index_word[i] for i in cap_val[rid] if i not in [0]])\n",
    "result, attention_plot = evaluate(image)\n",
    "predict_captcha = ''.join(result)\n",
    "\n",
    "print ('Real Captcha:', real_captcha)\n",
    "print ('Prediction Captcha:', predict_captcha)\n",
    "plot_attention(image, result, attention_plot)\n",
    "# opening the image\n",
    "# Image.open(img_name_val[rid])"
   ]
  },
  {
   "cell_type": "code",
   "execution_count": 35,
   "id": "c69c25b5",
   "metadata": {},
   "outputs": [
    {
     "name": "stderr",
     "output_type": "stream",
     "text": [
      "100%|██████████| 20000/20000 [24:17<00:00, 13.72it/s]"
     ]
    },
    {
     "name": "stdout",
     "output_type": "stream",
     "text": [
      "Validate Accuracy:  0.90575\n"
     ]
    },
    {
     "name": "stderr",
     "output_type": "stream",
     "text": [
      "\n"
     ]
    }
   ],
   "source": [
    "from sklearn.metrics import accuracy_score\n",
    "\n",
    "predict_target_val = []\n",
    "\n",
    "for img_name in tqdm(img_name_val):\n",
    "    result, attention_plot = evaluate(img_name)\n",
    "    predict_captcha = ''.join(result)\n",
    "    predict_target_val.append(predict_captcha)\n",
    "\n",
    "accuracy = accuracy_score(target_val, predict_target_val)\n",
    "\n",
    "print('Validate Accuracy: ', accuracy)"
   ]
  },
  {
   "cell_type": "markdown",
   "id": "3ca87fa9",
   "metadata": {},
   "source": [
    "## 6. Predict"
   ]
  },
  {
   "cell_type": "code",
   "execution_count": 36,
   "id": "d90447e8",
   "metadata": {},
   "outputs": [
    {
     "name": "stderr",
     "output_type": "stream",
     "text": [
      "100%|██████████| 20000/20000 [24:13<00:00, 13.76it/s]\n"
     ]
    }
   ],
   "source": [
    "img_name_test = [f'{data_dir}a{i}.png' for i in range(120000, 140000)]\n",
    "\n",
    "predict_target_test = []\n",
    "\n",
    "for img_name in tqdm(img_name_test):\n",
    "    result, attention_plot = evaluate(img_name)\n",
    "    predict_captcha = ''.join(result)\n",
    "    predict_target_test.append(predict_captcha)\n",
    "\n",
    "output_filename = 'Lab12-2_108032053.txt'\n",
    "with open(output_filename, 'w') as file:\n",
    "    for i, target in enumerate(predict_target_test):\n",
    "        file.write(f'a{120000 + i} {target}\\n')"
   ]
  },
  {
   "cell_type": "markdown",
   "id": "a015ab49",
   "metadata": {},
   "source": [
    "## 7. Report"
   ]
  },
  {
   "cell_type": "markdown",
   "id": "e343d47d",
   "metadata": {},
   "source": [
    "### Preprocess\n",
    "\n",
    "我對這些captacha圖片的preprocess就只有先將圖片使用 `tf.image.decode_png` 做解碼，接著將原始大小為 600\\*320 縮小成 300\\*160 的大小，最後再用 `img = (img / 255) * 2 - 1` 將資料線性調整至 -1 ~ 1 之間。而 captcha 文字的部分，因為總共只有 26 個小寫的英文字母，再加上需要用來做 padding 來維持 output size 相同的 1 個字母，所以最後 vacabulary size 為 27。\n",
    "\n",
    "### Model\n",
    "\n",
    "Model 分成兩個部分，第一部分是使用 3 組 conv + maxpool 做成的 CNN 來取得圖片的 feature map，最後再將 output reshape 成 37\\*2560。第二部分則是和範例 code 中相同，採用 CNN_Encoder + RNN_Decoder + BahdanauAttention 的結構，並將第一部分的 output 直接接上來預測出結果。\n",
    "\n",
    "### Training\n",
    "\n",
    "這邊的 loss function 我有做改寫，因為這邊的預測必須完全正確，不像 Caption 只需要接近就好，而且 padding 的位置也必須完全正確，因此不能使用 mask 來去除他的 loss，所以最後我就是直接使用 `SparseCategoricalCrossentropy(real, pred)` 並 reduce sum 作為 loss。接著在 training 的部分，我總共跑了 80 個 epoch，其中前 50 個 epoch 的 learning rate 設為 1e-3，而後面 30 個 epoch 則是減少到 1e-4，最終我在 validate 得到了 0.905 的準確度，剛好通過了 90% 的標準。"
   ]
  }
 ],
 "metadata": {
  "kernelspec": {
   "display_name": "Python 3 (ipykernel)",
   "language": "python",
   "name": "python3"
  },
  "language_info": {
   "codemirror_mode": {
    "name": "ipython",
    "version": 3
   },
   "file_extension": ".py",
   "mimetype": "text/x-python",
   "name": "python",
   "nbconvert_exporter": "python",
   "pygments_lexer": "ipython3",
   "version": "3.10.12"
  }
 },
 "nbformat": 4,
 "nbformat_minor": 5
}
