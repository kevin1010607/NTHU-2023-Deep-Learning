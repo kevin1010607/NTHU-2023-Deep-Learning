{
  "cells": [
    {
      "cell_type": "markdown",
      "metadata": {
        "id": "uG-cy8MtRI3N"
      },
      "source": [
        "# Lab06_108032053"
      ]
    },
    {
      "cell_type": "markdown",
      "metadata": {
        "id": "5eNRJHyWRNf9"
      },
      "source": [
        "## 1. Loading of dataset and Preprocessing"
      ]
    },
    {
      "cell_type": "code",
      "execution_count": 35,
      "metadata": {
        "id": "b5uFJiPUO0eu"
      },
      "outputs": [],
      "source": [
        "%matplotlib inline\n",
        "import os\n",
        "import numpy as np\n",
        "import pandas as pd\n",
        "from IPython.display import display\n",
        "\n",
        "import matplotlib\n",
        "matplotlib.rcParams.update({'font.size': 22})\n",
        "plt = matplotlib.pyplot\n",
        "\n",
        "if not os.path.exists(\"output/\"):\n",
        "  os.mkdir(\"output/\")\n",
        "\n",
        "import warnings\n",
        "warnings.filterwarnings(\"ignore\")"
      ]
    },
    {
      "cell_type": "code",
      "execution_count": 36,
      "metadata": {
        "colab": {
          "base_uri": "https://localhost:8080/",
          "height": 173
        },
        "id": "l5S1QQTRNqka",
        "outputId": "68675b5a-292a-4719-dddf-27bd7ab851b6"
      },
      "outputs": [
        {
          "data": {
            "text/html": [
              "<div>\n",
              "<style scoped>\n",
              "    .dataframe tbody tr th:only-of-type {\n",
              "        vertical-align: middle;\n",
              "    }\n",
              "\n",
              "    .dataframe tbody tr th {\n",
              "        vertical-align: top;\n",
              "    }\n",
              "\n",
              "    .dataframe thead th {\n",
              "        text-align: right;\n",
              "    }\n",
              "</style>\n",
              "<table border=\"1\" class=\"dataframe\">\n",
              "  <thead>\n",
              "    <tr style=\"text-align: right;\">\n",
              "      <th></th>\n",
              "      <th>0</th>\n",
              "      <th>1</th>\n",
              "      <th>2</th>\n",
              "      <th>3</th>\n",
              "      <th>4</th>\n",
              "      <th>5</th>\n",
              "      <th>6</th>\n",
              "      <th>7</th>\n",
              "      <th>8</th>\n",
              "      <th>9</th>\n",
              "      <th>...</th>\n",
              "      <th>270</th>\n",
              "      <th>271</th>\n",
              "      <th>272</th>\n",
              "      <th>273</th>\n",
              "      <th>274</th>\n",
              "      <th>275</th>\n",
              "      <th>276</th>\n",
              "      <th>277</th>\n",
              "      <th>278</th>\n",
              "      <th>279</th>\n",
              "    </tr>\n",
              "  </thead>\n",
              "  <tbody>\n",
              "    <tr>\n",
              "      <th>0</th>\n",
              "      <td>75</td>\n",
              "      <td>0</td>\n",
              "      <td>190</td>\n",
              "      <td>80</td>\n",
              "      <td>91</td>\n",
              "      <td>193</td>\n",
              "      <td>371</td>\n",
              "      <td>174</td>\n",
              "      <td>121</td>\n",
              "      <td>-16</td>\n",
              "      <td>...</td>\n",
              "      <td>0.0</td>\n",
              "      <td>9.0</td>\n",
              "      <td>-0.9</td>\n",
              "      <td>0.0</td>\n",
              "      <td>0.0</td>\n",
              "      <td>0.9</td>\n",
              "      <td>2.9</td>\n",
              "      <td>23.3</td>\n",
              "      <td>49.4</td>\n",
              "      <td>8</td>\n",
              "    </tr>\n",
              "    <tr>\n",
              "      <th>1</th>\n",
              "      <td>56</td>\n",
              "      <td>1</td>\n",
              "      <td>165</td>\n",
              "      <td>64</td>\n",
              "      <td>81</td>\n",
              "      <td>174</td>\n",
              "      <td>401</td>\n",
              "      <td>149</td>\n",
              "      <td>39</td>\n",
              "      <td>25</td>\n",
              "      <td>...</td>\n",
              "      <td>0.0</td>\n",
              "      <td>8.5</td>\n",
              "      <td>0.0</td>\n",
              "      <td>0.0</td>\n",
              "      <td>0.0</td>\n",
              "      <td>0.2</td>\n",
              "      <td>2.1</td>\n",
              "      <td>20.4</td>\n",
              "      <td>38.8</td>\n",
              "      <td>6</td>\n",
              "    </tr>\n",
              "    <tr>\n",
              "      <th>2</th>\n",
              "      <td>54</td>\n",
              "      <td>0</td>\n",
              "      <td>172</td>\n",
              "      <td>95</td>\n",
              "      <td>138</td>\n",
              "      <td>163</td>\n",
              "      <td>386</td>\n",
              "      <td>185</td>\n",
              "      <td>102</td>\n",
              "      <td>96</td>\n",
              "      <td>...</td>\n",
              "      <td>0.0</td>\n",
              "      <td>9.5</td>\n",
              "      <td>-2.4</td>\n",
              "      <td>0.0</td>\n",
              "      <td>0.0</td>\n",
              "      <td>0.3</td>\n",
              "      <td>3.4</td>\n",
              "      <td>12.3</td>\n",
              "      <td>49.0</td>\n",
              "      <td>10</td>\n",
              "    </tr>\n",
              "  </tbody>\n",
              "</table>\n",
              "<p>3 rows × 280 columns</p>\n",
              "</div>"
            ],
            "text/plain": [
              "   0    1    2    3    4    5    6    7    8    9    ...  270  271  272  273  \\\n",
              "0   75    0  190   80   91  193  371  174  121  -16  ...  0.0  9.0 -0.9  0.0   \n",
              "1   56    1  165   64   81  174  401  149   39   25  ...  0.0  8.5  0.0  0.0   \n",
              "2   54    0  172   95  138  163  386  185  102   96  ...  0.0  9.5 -2.4  0.0   \n",
              "\n",
              "   274  275  276   277   278  279  \n",
              "0  0.0  0.9  2.9  23.3  49.4    8  \n",
              "1  0.0  0.2  2.1  20.4  38.8    6  \n",
              "2  0.0  0.3  3.4  12.3  49.0   10  \n",
              "\n",
              "[3 rows x 280 columns]"
            ]
          },
          "metadata": {},
          "output_type": "display_data"
        }
      ],
      "source": [
        "# Load the data\n",
        "data = pd.read_csv('http://archive.ics.uci.edu/ml/machine-learning-databases/'\n",
        "          'arrhythmia/arrhythmia.data', header=None, sep=',', engine='python')\n",
        "display(data.head(3))"
      ]
    },
    {
      "cell_type": "code",
      "execution_count": 37,
      "metadata": {
        "colab": {
          "base_uri": "https://localhost:8080/",
          "height": 173
        },
        "id": "0jJBPaKfOQ30",
        "outputId": "926630fb-dbe5-4400-a07f-9910de83b1a7"
      },
      "outputs": [
        {
          "data": {
            "text/html": [
              "<div>\n",
              "<style scoped>\n",
              "    .dataframe tbody tr th:only-of-type {\n",
              "        vertical-align: middle;\n",
              "    }\n",
              "\n",
              "    .dataframe tbody tr th {\n",
              "        vertical-align: top;\n",
              "    }\n",
              "\n",
              "    .dataframe thead th {\n",
              "        text-align: right;\n",
              "    }\n",
              "</style>\n",
              "<table border=\"1\" class=\"dataframe\">\n",
              "  <thead>\n",
              "    <tr style=\"text-align: right;\">\n",
              "      <th></th>\n",
              "      <th>0</th>\n",
              "      <th>1</th>\n",
              "      <th>2</th>\n",
              "      <th>3</th>\n",
              "      <th>4</th>\n",
              "      <th>5</th>\n",
              "      <th>6</th>\n",
              "      <th>7</th>\n",
              "      <th>8</th>\n",
              "      <th>9</th>\n",
              "      <th>...</th>\n",
              "      <th>270</th>\n",
              "      <th>271</th>\n",
              "      <th>272</th>\n",
              "      <th>273</th>\n",
              "      <th>274</th>\n",
              "      <th>275</th>\n",
              "      <th>276</th>\n",
              "      <th>277</th>\n",
              "      <th>278</th>\n",
              "      <th>arrhythmia</th>\n",
              "    </tr>\n",
              "  </thead>\n",
              "  <tbody>\n",
              "    <tr>\n",
              "      <th>0</th>\n",
              "      <td>75</td>\n",
              "      <td>0</td>\n",
              "      <td>190</td>\n",
              "      <td>80</td>\n",
              "      <td>91</td>\n",
              "      <td>193</td>\n",
              "      <td>371</td>\n",
              "      <td>174</td>\n",
              "      <td>121</td>\n",
              "      <td>-16</td>\n",
              "      <td>...</td>\n",
              "      <td>0.0</td>\n",
              "      <td>9.0</td>\n",
              "      <td>-0.9</td>\n",
              "      <td>0.0</td>\n",
              "      <td>0.0</td>\n",
              "      <td>0.9</td>\n",
              "      <td>2.9</td>\n",
              "      <td>23.3</td>\n",
              "      <td>49.4</td>\n",
              "      <td>1</td>\n",
              "    </tr>\n",
              "    <tr>\n",
              "      <th>1</th>\n",
              "      <td>56</td>\n",
              "      <td>1</td>\n",
              "      <td>165</td>\n",
              "      <td>64</td>\n",
              "      <td>81</td>\n",
              "      <td>174</td>\n",
              "      <td>401</td>\n",
              "      <td>149</td>\n",
              "      <td>39</td>\n",
              "      <td>25</td>\n",
              "      <td>...</td>\n",
              "      <td>0.0</td>\n",
              "      <td>8.5</td>\n",
              "      <td>0.0</td>\n",
              "      <td>0.0</td>\n",
              "      <td>0.0</td>\n",
              "      <td>0.2</td>\n",
              "      <td>2.1</td>\n",
              "      <td>20.4</td>\n",
              "      <td>38.8</td>\n",
              "      <td>1</td>\n",
              "    </tr>\n",
              "    <tr>\n",
              "      <th>2</th>\n",
              "      <td>54</td>\n",
              "      <td>0</td>\n",
              "      <td>172</td>\n",
              "      <td>95</td>\n",
              "      <td>138</td>\n",
              "      <td>163</td>\n",
              "      <td>386</td>\n",
              "      <td>185</td>\n",
              "      <td>102</td>\n",
              "      <td>96</td>\n",
              "      <td>...</td>\n",
              "      <td>0.0</td>\n",
              "      <td>9.5</td>\n",
              "      <td>-2.4</td>\n",
              "      <td>0.0</td>\n",
              "      <td>0.0</td>\n",
              "      <td>0.3</td>\n",
              "      <td>3.4</td>\n",
              "      <td>12.3</td>\n",
              "      <td>49.0</td>\n",
              "      <td>1</td>\n",
              "    </tr>\n",
              "  </tbody>\n",
              "</table>\n",
              "<p>3 rows × 275 columns</p>\n",
              "</div>"
            ],
            "text/plain": [
              "    0  1    2   3    4    5    6    7    8   9  ...  270  271  272  273  274  \\\n",
              "0  75  0  190  80   91  193  371  174  121 -16  ...  0.0  9.0 -0.9  0.0  0.0   \n",
              "1  56  1  165  64   81  174  401  149   39  25  ...  0.0  8.5  0.0  0.0  0.0   \n",
              "2  54  0  172  95  138  163  386  185  102  96  ...  0.0  9.5 -2.4  0.0  0.0   \n",
              "\n",
              "   275  276   277   278  arrhythmia  \n",
              "0  0.9  2.9  23.3  49.4           1  \n",
              "1  0.2  2.1  20.4  38.8           1  \n",
              "2  0.3  3.4  12.3  49.0           1  \n",
              "\n",
              "[3 rows x 275 columns]"
            ]
          },
          "execution_count": 37,
          "metadata": {},
          "output_type": "execute_result"
        }
      ],
      "source": [
        "# Preprocessing\n",
        "data['arrhythmia'] = data[len(data.columns)-1].map(lambda x: 0 if x==1 else 1)\n",
        "data = data.drop(len(data.columns)-2, axis=1)\n",
        "data = data._get_numeric_data()\n",
        "data.head(3)"
      ]
    },
    {
      "cell_type": "markdown",
      "metadata": {
        "id": "q4OyYIBBR6Gp"
      },
      "source": [
        "## 2. Splitting of dataset to training and testing data (test_size = 20% of the whole dataset)"
      ]
    },
    {
      "cell_type": "code",
      "execution_count": 38,
      "metadata": {
        "colab": {
          "base_uri": "https://localhost:8080/"
        },
        "id": "9Y_BieJlOY8L",
        "outputId": "6d69003b-b25c-44d0-8500-012d2301c2e4"
      },
      "outputs": [
        {
          "name": "stdout",
          "output_type": "stream",
          "text": [
            "[0 1]\n",
            "(452, 274)\n"
          ]
        }
      ],
      "source": [
        "X = data.iloc[:, :-1].values  # The first to second-last columns are the features\n",
        "y = data.iloc[:, -1].values   # The last column is the ground-truth label\n",
        "print(np.unique(y))\n",
        "print(X.shape)"
      ]
    },
    {
      "cell_type": "code",
      "execution_count": 39,
      "metadata": {
        "id": "3b8DPeESOd-l"
      },
      "outputs": [],
      "source": [
        "from sklearn.model_selection import train_test_split\n",
        "from sklearn.preprocessing import StandardScaler\n",
        "\n",
        "# Splitting the dataset to training and validation datasets\n",
        "X_train, X_test, y_train, y_test = train_test_split(X, y, test_size=0.2, random_state=20181004)\n",
        "\n",
        "# Standardizing the training and test datasets\n",
        "# Note that we are scaling based on the information from the training data\n",
        "# Then we apply the scaling that is done from training data to the test data\n",
        "sc = StandardScaler()\n",
        "sc.fit(X_train)\n",
        "X_train_std = sc.transform(X_train)\n",
        "X_test_std = sc.transform(X_test)"
      ]
    },
    {
      "cell_type": "markdown",
      "metadata": {
        "id": "BiMh3g0aSKSH"
      },
      "source": [
        "## 3. Building of a self-designed Logistic Regression model (Complete the TODO parts provided below)"
      ]
    },
    {
      "cell_type": "code",
      "execution_count": 40,
      "metadata": {},
      "outputs": [],
      "source": [
        "class LogisticRegression(object):\n",
        "\n",
        "    def __init__(self, eta=0.05, n_epoch=100, random_state=1):\n",
        "        \"\"\"Feel free to change the hyperparameters\"\"\"\n",
        "        self.eta = eta\n",
        "        self.n_epoch = n_epoch\n",
        "        self.random_state = random_state\n",
        "\n",
        "    def fit(self, X, y):\n",
        "        rgen = np.random.RandomState(self.random_state)\n",
        "        self.w_ = rgen.normal(loc=0.0, scale=0.01, size=1 + X.shape[1])\n",
        "        self.cost_ = []\n",
        "\n",
        "        for i in range(self.n_epoch):\n",
        "            net_input = self.net_input(X)\n",
        "            output = self.activation(net_input)\n",
        "            gradient_weights, gradient_bias = self.gradient(X, output, y)\n",
        "            self.w_[1:] += self.eta * gradient_weights\n",
        "            self.w_[0] += self.eta * gradient_bias\n",
        "            cost = self.loss(output, y)\n",
        "            self.cost_.append(cost)\n",
        "        return self\n",
        "\n",
        "    def net_input(self, X):\n",
        "        \"\"\"Calculate net input\"\"\"\n",
        "        return np.dot(X, self.w_[1:]) + self.w_[0]\n",
        "\n",
        "    def loss(self, output, y):\n",
        "        \"\"\"Calculate cross entropy loss\"\"\"\n",
        "        # TODO\n",
        "        eps = 1e-10 # prevent numeric issue (log 0 = -inf)\n",
        "        return - np.sum(y * np.log(np.maximum(output, 1e-10)) + (1 - y) * np.log(np.maximum(1 - output, 1e-10)))\n",
        "\n",
        "    def gradient(self, X, output, y):\n",
        "        \"\"\"Calculate the partial derivative of cross entropy loss with respect to weights\"\"\"\n",
        "        errors = (y - output)\n",
        "        return errors.dot(X), errors.sum()\n",
        "\n",
        "    def activation(self, z):\n",
        "        \"\"\"Compute logistic sigmoid activation\"\"\"\n",
        "        # TODO\n",
        "        return 1.0 / (1.0 + np.exp(-z));\n",
        "\n",
        "    def predict(self, X):\n",
        "        \"\"\"Return class label after unit step\"\"\"\n",
        "        # TODO\n",
        "        net_input = self.net_input(X)\n",
        "        output = self.activation(net_input)\n",
        "        return (output >= 0.5).astype(int)"
      ]
    },
    {
      "cell_type": "code",
      "execution_count": 41,
      "metadata": {
        "colab": {
          "base_uri": "https://localhost:8080/",
          "height": 456
        },
        "id": "fapFffH9P5sQ",
        "outputId": "c35760c1-518d-4a17-99d4-57dd090dbedc"
      },
      "outputs": [
        {
          "name": "stdout",
          "output_type": "stream",
          "text": [
            "\n",
            "--> Accuracy rate: 0.78022\n",
            "\n"
          ]
        },
        {
          "data": {
            "image/png": "[encoded data removed]",
            "text/plain": [
              "<Figure size 800x600 with 1 Axes>"
            ]
          },
          "metadata": {},
          "output_type": "display_data"
        }
      ],
      "source": [
        "from sklearn.metrics import accuracy_score\n",
        "\n",
        "lr = LogisticRegression(eta=0.05, n_epoch=500)\n",
        "lr.fit(X_train_std, y_train)\n",
        "\n",
        "y_pred = lr.predict(X_test_std)\n",
        "\n",
        "print(f'\\n--> Accuracy rate: {accuracy_score(y_test, y_pred):.5f}\\n')\n",
        "\n",
        "fig, ax = plt.subplots(figsize=(8,6))\n",
        "cost = np.array(lr.cost_)\n",
        "plt.plot(range(len(cost)), cost, label='Cost')\n",
        "plt.xlabel('Epoch')\n",
        "plt.ylabel('Loss')\n",
        "plt.legend(loc='upper right')\n",
        "plt.title('Loss curve')\n",
        "plt.tight_layout()\n",
        "plt.legend(loc=1, prop={'size': 20})\n",
        "for item in ([ax.title, ax.xaxis.label, ax.yaxis.label] +\n",
        "              ax.get_xticklabels() + ax.get_yticklabels()):\n",
        "  item.set_fontsize(20)\n",
        "for item in (ax.get_xticklabels() + ax.get_yticklabels()):\n",
        "  item.set_fontsize(15)\n",
        "plt.savefig('./output/loss_curve.png', dpi=300)\n",
        "plt.show()"
      ]
    },
    {
      "cell_type": "markdown",
      "metadata": {
        "id": "TFn3o2E2SzlE"
      },
      "source": [
        "## 4. Plotting of the confusion matrix. (Label 0 as positive)"
      ]
    },
    {
      "cell_type": "code",
      "execution_count": 42,
      "metadata": {
        "colab": {
          "base_uri": "https://localhost:8080/",
          "height": 265
        },
        "id": "4IBG6LgLS406",
        "outputId": "78cb9cd1-b3b5-4cbb-8349-40ce61fe85b7"
      },
      "outputs": [
        {
          "data": {
            "image/png": "[encoded data removed]",
            "text/plain": [
              "<Figure size 400x400 with 1 Axes>"
            ]
          },
          "metadata": {},
          "output_type": "display_data"
        }
      ],
      "source": [
        "from sklearn.metrics import confusion_matrix\n",
        "\n",
        "confmat = confusion_matrix(y_true=y_test, y_pred=y_pred)\n",
        "\n",
        "fig, ax = plt.subplots(figsize=(4,4))\n",
        "ax.matshow(confmat, cmap=plt.cm.Blues, alpha=0.3)\n",
        "for i in range(confmat.shape[0]):\n",
        "  for j in range(confmat.shape[1]):\n",
        "    ax.text(x=1-j, y=1-i, s=confmat[i, j], va='center', ha='center')\n",
        "\n",
        "plt.xlabel('Predicted label')\n",
        "plt.ylabel('True label')\n",
        "\n",
        "plt.tight_layout()\n",
        "plt.savefig('./output/confusion_matrix.png', dpi=300)\n",
        "for item in ([ax.title, ax.xaxis.label, ax.yaxis.label] +\n",
        "              ax.get_xticklabels() + ax.get_yticklabels()):\n",
        "  item.set_fontsize(20)\n",
        "for item in (ax.get_xticklabels() + ax.get_yticklabels()):\n",
        "  item.set_fontsize(15)\n",
        "plt.show()"
      ]
    },
    {
      "cell_type": "markdown",
      "metadata": {
        "id": "KJHSJBlHS1hF"
      },
      "source": [
        "## 5. Computing the F1-score of this confusion matrix. The F1-score should be at least 0.75"
      ]
    },
    {
      "cell_type": "code",
      "execution_count": 43,
      "metadata": {
        "colab": {
          "base_uri": "https://localhost:8080/"
        },
        "id": "KjAbet_eS5lW",
        "outputId": "ab53ded0-fa6e-44da-b1c9-882e485b1273"
      },
      "outputs": [
        {
          "name": "stdout",
          "output_type": "stream",
          "text": [
            "\n",
            "--> F1 score:\n",
            "\n",
            "Individual: 0.76744, 0.79167\n",
            "\n",
            "Micro: 0.78022\n",
            "\n",
            "Macro: 0.77955\n"
          ]
        }
      ],
      "source": [
        "from sklearn.metrics import f1_score\n",
        "\n",
        "print('\\n--> F1 score:')\n",
        "f = f1_score(y_true=y_test, y_pred=y_pred, average=None)\n",
        "print(f'\\nIndividual: {f[0]:.5f}, {f[1]:.5f}')\n",
        "f = f1_score(y_true=y_test, y_pred=y_pred, average='micro')\n",
        "print(f'\\nMicro: {f:.5f}')\n",
        "f = f1_score(y_true=y_test, y_pred=y_pred, average='macro')\n",
        "print(f'\\nMacro: {f:.5f}')"
      ]
    }
  ],
  "metadata": {
    "colab": {
      "provenance": []
    },
    "kernelspec": {
      "display_name": "Python 3",
      "name": "python3"
    },
    "language_info": {
      "codemirror_mode": {
        "name": "ipython",
        "version": 3
      },
      "file_extension": ".py",
      "mimetype": "text/x-python",
      "name": "python",
      "nbconvert_exporter": "python",
      "pygments_lexer": "ipython3",
      "version": "3.11.6"
    }
  },
  "nbformat": 4,
  "nbformat_minor": 0
}
