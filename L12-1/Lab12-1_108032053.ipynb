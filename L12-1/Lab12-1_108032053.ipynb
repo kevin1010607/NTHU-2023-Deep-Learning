{
 "cells": [
  {
   "cell_type": "markdown",
   "id": "f5c4f724",
   "metadata": {},
   "source": [
    "# Lab12-1_108032053"
   ]
  },
  {
   "cell_type": "markdown",
   "id": "3a679d2c",
   "metadata": {},
   "source": [
    "## 1. Download data"
   ]
  },
  {
   "cell_type": "code",
   "execution_count": 1,
   "id": "29798621",
   "metadata": {},
   "outputs": [
    {
     "name": "stderr",
     "output_type": "stream",
     "text": [
      "2023-11-23 23:59:55.926061: I tensorflow/core/platform/cpu_feature_guard.cc:183] This TensorFlow binary is optimized to use available CPU instructions in performance-critical operations.\n",
      "To enable the following instructions: SSE3 SSE4.1 SSE4.2 AVX, in other operations, rebuild TensorFlow with the appropriate compiler flags.\n"
     ]
    }
   ],
   "source": [
    "import tensorflow as tf\n",
    "import pandas as pd\n",
    "import re\n",
    "import numpy as np\n",
    "import os\n",
    "import time\n",
    "from sklearn.model_selection import train_test_split\n",
    "\n",
    "os.environ['TF_ENABLE_AUTO_MIXED_PRECISION'] = '0'\n",
    "os.environ['TF_XLA_FLAGS'] = '--tf_xla_auto_jit=2 --tf_xla_cpu_global_jit'"
   ]
  },
  {
   "cell_type": "code",
   "execution_count": 2,
   "id": "ff756934",
   "metadata": {},
   "outputs": [
    {
     "name": "stdout",
     "output_type": "stream",
     "text": [
      "1 Physical GPUs, 1 Logical GPUs\n"
     ]
    },
    {
     "name": "stderr",
     "output_type": "stream",
     "text": [
      "2023-11-23 23:59:58.046983: I tensorflow/core/common_runtime/gpu/gpu_device.cc:1636] Created device /job:localhost/replica:0/task:0/device:GPU:0 with 26702 MB memory:  -> device: 0, name: Tesla V100-SXM2-32GB, pci bus id: 0000:3d:00.0, compute capability: 7.0\n"
     ]
    }
   ],
   "source": [
    "gpus = tf.config.experimental.list_physical_devices('GPU')\n",
    "if gpus:\n",
    "    try:\n",
    "        # Restrict TensorFlow to only use the first GPU\n",
    "        tf.config.experimental.set_visible_devices(gpus[0], 'GPU')\n",
    "\n",
    "        # Currently, memory growth needs to be the same across GPUs\n",
    "        for gpu in gpus:\n",
    "            tf.config.experimental.set_memory_growth(gpu, True)\n",
    "        logical_gpus = tf.config.experimental.list_logical_devices('GPU')\n",
    "        print(len(gpus), \"Physical GPUs,\", len(logical_gpus), \"Logical GPUs\")\n",
    "    except RuntimeError as e:\n",
    "        # Memory growth must be set before GPUs have been initialized\n",
    "        print(e)"
   ]
  },
  {
   "cell_type": "code",
   "execution_count": 3,
   "id": "efe2352d",
   "metadata": {},
   "outputs": [],
   "source": [
    "import zipfile\n",
    "\n",
    "DOWNLOAD_URL_1 = \"https://drive.google.com/u/1/uc?id=1OKULnW54IC7QYnqDsuSesIGn3EZkAifj&export=download\"\n",
    "DOWNLOAD_URL_2 = \"https://drive.google.com/u/1/uc?id=1AY6sOo4AqlZ2yrXdQux_9--jgfS0_cWQ&export=download\"\n",
    "DOWNLOAD_URL_3 = \"https://drive.google.com/u/1/uc?id=1F7vYZ2t1nOtCXioUYMr98AXbozw1KdkM&export=download\"\n",
    "\n",
    "if not os.path.exists(\"data\"):\n",
    "    os.mkdir(\"data\")   \n",
    "    try:\n",
    "        import gdown\n",
    "        gdown.download(DOWNLOAD_URL_1, \"data/eng-chinese.txt\")\n",
    "        gdown.download(DOWNLOAD_URL_2, \"data/IMDB Dataset.csv\")\n",
    "        gdown.download(DOWNLOAD_URL_3, \"data/TaipeiSansTCBeta-Regular.ttf\")\n",
    "        print(\"Donwload successfully.\")\n",
    "    except:\n",
    "        print(\"Can't download the file.\")\n",
    "\n",
    "# load the dataset\n",
    "movie_reviews = pd.read_csv(\"./data/IMDB Dataset.csv\")"
   ]
  },
  {
   "cell_type": "markdown",
   "id": "4a1fcf5b",
   "metadata": {},
   "source": [
    "## 2. Preprocess data"
   ]
  },
  {
   "cell_type": "code",
   "execution_count": 4,
   "id": "769af139",
   "metadata": {},
   "outputs": [
    {
     "data": {
      "text/plain": [
       "False"
      ]
     },
     "execution_count": 4,
     "metadata": {},
     "output_type": "execute_result"
    }
   ],
   "source": [
    "# check if there is any null value in the dataset\n",
    "movie_reviews.isnull().values.any()"
   ]
  },
  {
   "cell_type": "code",
   "execution_count": 5,
   "id": "869a9b6c",
   "metadata": {},
   "outputs": [
    {
     "data": {
      "text/plain": [
       "(50000, 2)"
      ]
     },
     "execution_count": 5,
     "metadata": {},
     "output_type": "execute_result"
    }
   ],
   "source": [
    "# show the size of the dataset\n",
    "movie_reviews.shape"
   ]
  },
  {
   "cell_type": "code",
   "execution_count": 6,
   "id": "1a5067c5",
   "metadata": {},
   "outputs": [
    {
     "data": {
      "text/html": [
       "<div>\n",
       "<style scoped>\n",
       "    .dataframe tbody tr th:only-of-type {\n",
       "        vertical-align: middle;\n",
       "    }\n",
       "\n",
       "    .dataframe tbody tr th {\n",
       "        vertical-align: top;\n",
       "    }\n",
       "\n",
       "    .dataframe thead th {\n",
       "        text-align: right;\n",
       "    }\n",
       "</style>\n",
       "<table border=\"1\" class=\"dataframe\">\n",
       "  <thead>\n",
       "    <tr style=\"text-align: right;\">\n",
       "      <th></th>\n",
       "      <th>review</th>\n",
       "      <th>sentiment</th>\n",
       "    </tr>\n",
       "  </thead>\n",
       "  <tbody>\n",
       "    <tr>\n",
       "      <th>0</th>\n",
       "      <td>One of the other reviewers has mentioned that ...</td>\n",
       "      <td>positive</td>\n",
       "    </tr>\n",
       "    <tr>\n",
       "      <th>1</th>\n",
       "      <td>A wonderful little production. &lt;br /&gt;&lt;br /&gt;The...</td>\n",
       "      <td>positive</td>\n",
       "    </tr>\n",
       "    <tr>\n",
       "      <th>2</th>\n",
       "      <td>I thought this was a wonderful way to spend ti...</td>\n",
       "      <td>positive</td>\n",
       "    </tr>\n",
       "    <tr>\n",
       "      <th>3</th>\n",
       "      <td>Basically there's a family where a little boy ...</td>\n",
       "      <td>negative</td>\n",
       "    </tr>\n",
       "    <tr>\n",
       "      <th>4</th>\n",
       "      <td>Petter Mattei's \"Love in the Time of Money\" is...</td>\n",
       "      <td>positive</td>\n",
       "    </tr>\n",
       "  </tbody>\n",
       "</table>\n",
       "</div>"
      ],
      "text/plain": [
       "                                              review sentiment\n",
       "0  One of the other reviewers has mentioned that ...  positive\n",
       "1  A wonderful little production. <br /><br />The...  positive\n",
       "2  I thought this was a wonderful way to spend ti...  positive\n",
       "3  Basically there's a family where a little boy ...  negative\n",
       "4  Petter Mattei's \"Love in the Time of Money\" is...  positive"
      ]
     },
     "execution_count": 6,
     "metadata": {},
     "output_type": "execute_result"
    }
   ],
   "source": [
    "# show the first five data in the dataset\n",
    "movie_reviews.head()"
   ]
  },
  {
   "cell_type": "code",
   "execution_count": 7,
   "id": "eb0220db",
   "metadata": {},
   "outputs": [
    {
     "data": {
      "text/plain": [
       "\"One of the other reviewers has mentioned that after watching just 1 Oz episode you'll be hooked. They are right, as this is exactly what happened with me.<br /><br />The first thing that struck me about Oz was its brutality and unflinching scenes of violence, which set in right from the word GO. Trust me, this is not a show for the faint hearted or timid. This show pulls no punches with regards to drugs, sex or violence. Its is hardcore, in the classic use of the word.<br /><br />It is called OZ as that is the nickname given to the Oswald Maximum Security State Penitentary. It focuses mainly on Emerald City, an experimental section of the prison where all the cells have glass fronts and face inwards, so privacy is not high on the agenda. Em City is home to many..Aryans, Muslims, gangstas, Latinos, Christians, Italians, Irish and more....so scuffles, death stares, dodgy dealings and shady agreements are never far away.<br /><br />I would say the main appeal of the show is due to the fact that it goes where other shows wouldn't dare. Forget pretty pictures painted for mainstream audiences, forget charm, forget romance...OZ doesn't mess around. The first episode I ever saw struck me as so nasty it was surreal, I couldn't say I was ready for it, but as I watched more, I developed a taste for Oz, and got accustomed to the high levels of graphic violence. Not just violence, but injustice (crooked guards who'll be sold out for a nickel, inmates who'll kill on order and get away with it, well mannered, middle class inmates being turned into prison bitches due to their lack of street skills or prison experience) Watching Oz, you may become comfortable with what is uncomfortable viewing....thats if you can get in touch with your darker side.\""
      ]
     },
     "execution_count": 7,
     "metadata": {},
     "output_type": "execute_result"
    }
   ],
   "source": [
    "movie_reviews[\"review\"][0]"
   ]
  },
  {
   "cell_type": "code",
   "execution_count": 8,
   "id": "851f78d8",
   "metadata": {},
   "outputs": [],
   "source": [
    "TAG_RE = re.compile(r'<[^>]+>')\n",
    "\n",
    "def remove_tags(text):\n",
    "    return TAG_RE.sub('', text)\n",
    "\n",
    "def preprocess_text(sen):\n",
    "    # Removing html tags\n",
    "    sentence = remove_tags(sen)\n",
    "\n",
    "    # Remove punctuations and numbers\n",
    "    sentence = re.sub('[^a-zA-Z]', ' ', sentence)\n",
    "\n",
    "    # Single character removal\n",
    "    sentence = re.sub(r\"\\s+[a-zA-Z]\\s+\", ' ', sentence)\n",
    "\n",
    "    # Removing multiple spaces\n",
    "    sentence = re.sub(r'\\s+', ' ', sentence)\n",
    "\n",
    "    return sentence"
   ]
  },
  {
   "cell_type": "code",
   "execution_count": 9,
   "id": "5ca8738e",
   "metadata": {},
   "outputs": [],
   "source": [
    "X = []\n",
    "sentences = list(movie_reviews['review'])\n",
    "for sen in sentences:\n",
    "    X.append(preprocess_text(sen))\n",
    "\n",
    "# replace the positive with 1, replace the negative with 0\n",
    "y = movie_reviews['sentiment']\n",
    "y = np.array(list(map(lambda x: 1 if x == \"positive\" else 0, y)))"
   ]
  },
  {
   "cell_type": "code",
   "execution_count": 10,
   "id": "dc24e0a6",
   "metadata": {},
   "outputs": [
    {
     "name": "stdout",
     "output_type": "stream",
     "text": [
      "# training data: 40000\n",
      "# test data: 10000\n"
     ]
    }
   ],
   "source": [
    "# Split the training dataset and test dataset\n",
    "X_train, X_test, y_train, y_test = train_test_split(X, y, test_size=0.20, random_state=42)\n",
    "print(\"# training data: {:d}\\n# test data: {:d}\".format(len(X_train), len(X_test)))"
   ]
  },
  {
   "cell_type": "code",
   "execution_count": 11,
   "id": "db5896e2",
   "metadata": {},
   "outputs": [],
   "source": [
    "tokenizer = tf.keras.preprocessing.text.Tokenizer(num_words=10000)\n",
    "tokenizer.fit_on_texts(X_train)\n",
    "\n",
    "X_train = tokenizer.texts_to_sequences(X_train)\n",
    "X_test = tokenizer.texts_to_sequences(X_test)\n",
    "\n",
    "max_len = 100\n",
    "# padding sentences to the same length\n",
    "X_train = tf.keras.preprocessing.sequence.pad_sequences(X_train, padding='post', maxlen=max_len)\n",
    "X_test = tf.keras.preprocessing.sequence.pad_sequences(X_test, padding='post', maxlen=max_len)"
   ]
  },
  {
   "cell_type": "code",
   "execution_count": 12,
   "id": "3130ba05",
   "metadata": {},
   "outputs": [
    {
     "data": {
      "text/plain": [
       "array([   1,  296,  140, 2854,    2,  405,  614,    1,  263,    5, 3514,\n",
       "        977,    4,   25,   37,   11, 1237,  215,   62,    2,   35,    5,\n",
       "         27,  217,   24,  189, 1430,    7, 1068,   15, 4868,   81,    1,\n",
       "        221,   63,  351,   64,   52,   24,    4, 3547,   13,    6,   19,\n",
       "        192,    4, 8148,  859, 3430, 1720,   17,   23,    4,  158,  194,\n",
       "        175,  106,    9, 1604,  461,   71,  218,    4,  321,    2, 3431,\n",
       "         31,   20,   47,   68, 1844, 4668,   11,    6, 1365,    8,   16,\n",
       "          5, 3475, 1990,   14,   59,    1, 2380,  460,  518,    2,  170,\n",
       "       2524, 2698, 1745,    4,  573,    6,   33,    1, 3750,  198,  345,\n",
       "       3812], dtype=int32)"
      ]
     },
     "execution_count": 12,
     "metadata": {},
     "output_type": "execute_result"
    }
   ],
   "source": [
    "# show the preprocessed data\n",
    "X_train[0]"
   ]
  },
  {
   "cell_type": "code",
   "execution_count": 13,
   "id": "3c01650b",
   "metadata": {},
   "outputs": [
    {
     "data": {
      "text/plain": [
       "(TensorShape([128, 100]), TensorShape([128]))"
      ]
     },
     "execution_count": 13,
     "metadata": {},
     "output_type": "execute_result"
    }
   ],
   "source": [
    "BUFFER_SIZE = len(X_train)\n",
    "BATCH_SIZE = 128\n",
    "steps_per_epoch = len(X_train)//BATCH_SIZE\n",
    "embedding_dim = 256\n",
    "units = 1024\n",
    "# only reserve 10000 words\n",
    "vocab_size = 10000\n",
    "\n",
    "dataset = tf.data.Dataset.from_tensor_slices((X_train, y_train)).shuffle(BUFFER_SIZE)\n",
    "dataset = dataset.batch(BATCH_SIZE, drop_remainder=True)\n",
    "test_dataset = tf.data.Dataset.from_tensor_slices((X_test, y_test))\n",
    "test_dataset = test_dataset.batch(BATCH_SIZE, drop_remainder=False)\n",
    "\n",
    "example_input_batch, example_target_batch = next(iter(dataset))\n",
    "example_input_batch.shape, example_target_batch.shape"
   ]
  },
  {
   "cell_type": "markdown",
   "id": "8f75e49f",
   "metadata": {},
   "source": [
    "## 3. Define model"
   ]
  },
  {
   "cell_type": "code",
   "execution_count": 14,
   "id": "96a2f24f",
   "metadata": {},
   "outputs": [],
   "source": [
    "class Encoder(tf.keras.Model):\n",
    "    def __init__(self, vocab_size, embedding_dim, enc_units, batch_sz):\n",
    "        # vacab_size=10000, embedding_dim=256 enc_units=1024 batch_sz=64\n",
    "        super(Encoder, self).__init__()\n",
    "        self.batch_sz = batch_sz\n",
    "        self.enc_units = enc_units\n",
    "        self.embedding = tf.keras.layers.Embedding(vocab_size, embedding_dim)\n",
    "        self.gru = tf.keras.layers.GRU(self.enc_units,\n",
    "                                       return_sequences=True,\n",
    "                                       return_state=True,\n",
    "                                       recurrent_activation='sigmoid',\n",
    "                                       recurrent_initializer='glorot_uniform')\n",
    "\n",
    "    def call(self, x, hidden):\n",
    "        # x is the training data with shape == (batch_size，max_length)  -> (128, 100)\n",
    "        # which means there are batch_size sentences in one batch, the length of each sentence is max_length\n",
    "        # hidden state shape == (batch_size, units) -> (128, 1024)\n",
    "        # after embedding, x shape == (batch_size, max_length, embedding_dim) -> (128, 100, 256)\n",
    "        x = self.embedding(x)\n",
    "        \n",
    "        # output contains the state(in GRU, the hidden state and the output are same) from all timestamps,\n",
    "        # output shape == (batch_size, max_length, units) -> (128, 100, 1024)\n",
    "        # state is the hidden state of the last timestamp, shape == (batch_size, units) -> (128, 1024)\n",
    "        output, state = self.gru(x, initial_state=hidden)\n",
    "        \n",
    "        return output, state\n",
    "\n",
    "    def initialize_hidden_state(self):\n",
    "        # initialize the first state of the gru,  shape == (batch_size, units) -> (128, 1024)\n",
    "        return tf.zeros((self.batch_sz, self.enc_units))"
   ]
  },
  {
   "cell_type": "code",
   "execution_count": 15,
   "id": "4fd6483d",
   "metadata": {},
   "outputs": [
    {
     "name": "stdout",
     "output_type": "stream",
     "text": [
      "Encoder output shape: (batch size, sequence length, units) (128, 100, 1024)\n",
      "Encoder Hidden state shape: (batch size, units) (128, 1024)\n",
      "tf.Tensor([ True  True  True ...  True  True  True], shape=(1024,), dtype=bool)\n"
     ]
    },
    {
     "name": "stderr",
     "output_type": "stream",
     "text": [
      "2023-11-24 00:00:14.645845: I tensorflow/compiler/xla/stream_executor/cuda/cuda_dnn.cc:432] Loaded cuDNN version 8904\n"
     ]
    }
   ],
   "source": [
    "encoder = Encoder(vocab_size, embedding_dim, units, BATCH_SIZE)\n",
    "\n",
    "# sample input\n",
    "sample_hidden = encoder.initialize_hidden_state()\n",
    "sample_output, sample_hidden = encoder(example_input_batch, sample_hidden)\n",
    "print('Encoder output shape: (batch size, sequence length, units) {}'.format(sample_output.shape))\n",
    "print('Encoder Hidden state shape: (batch size, units) {}'.format(sample_hidden.shape))\n",
    "# the output and the hidden state of GRU is equal\n",
    "print(sample_output[-1, -1, :] == sample_hidden[-1, :])"
   ]
  },
  {
   "cell_type": "code",
   "execution_count": 16,
   "id": "37bd9ded",
   "metadata": {},
   "outputs": [],
   "source": [
    "class LuongAttention(tf.keras.Model):\n",
    "    def __init__(self, units):\n",
    "        super(LuongAttention, self).__init__()\n",
    "        # TODO: Complete the function.\n",
    "        self.wa = tf.keras.layers.Dense(units)\n",
    "\n",
    "    def call(self, query, values):\n",
    "        # TODO: Implement the Luong attention.\n",
    "        query = tf.expand_dims(query, 1)\n",
    "        weighted_values = self.wa(values)\n",
    "        \n",
    "        score = tf.matmul(query, weighted_values, transpose_b=True)\n",
    "        attention_weights = tf.keras.activations.softmax(score, axis=-1)\n",
    "        \n",
    "        context_vector = tf.matmul(attention_weights, values)\n",
    "        context_vector = tf.squeeze(context_vector, axis=1)\n",
    "        \n",
    "        return context_vector, attention_weights"
   ]
  },
  {
   "cell_type": "code",
   "execution_count": 17,
   "id": "923be783",
   "metadata": {},
   "outputs": [],
   "source": [
    "class Decoder(tf.keras.Model):\n",
    "    def __init__(self, dec_units, batch_sz):\n",
    "        super(Decoder, self).__init__()\n",
    "        self.batch_sz = batch_sz\n",
    "        self.dec_units = dec_units\n",
    "        \n",
    "        # pass through four fully connected layers, the model will return \n",
    "        # the probability of the positivity of the sentence\n",
    "        self.fc_1 = tf.keras.layers.Dense(2048)\n",
    "        self.fc_2 = tf.keras.layers.Dense(512)\n",
    "        self.fc_3 = tf.keras.layers.Dense(64)\n",
    "        self.fc_4 = tf.keras.layers.Dense(1)\n",
    "\n",
    "        # used for attention\n",
    "        self.attention = LuongAttention(self.dec_units)\n",
    "\n",
    "    def call(self, hidden, enc_output):\n",
    "        context_vector, attention_weights = self.attention(hidden, enc_output)\n",
    "        output = self.fc_1(context_vector)\n",
    "        output = self.fc_2(output)\n",
    "        output = self.fc_3(output)\n",
    "        output = self.fc_4(output)\n",
    "\n",
    "        return output, attention_weights"
   ]
  },
  {
   "cell_type": "code",
   "execution_count": 18,
   "id": "0a2d0be0",
   "metadata": {},
   "outputs": [
    {
     "name": "stdout",
     "output_type": "stream",
     "text": [
      "Decoder output shape: (batch_size, vocab size) (128, 1)\n"
     ]
    }
   ],
   "source": [
    "decoder = Decoder(units, BATCH_SIZE)\n",
    "sample_decoder_output, _ = decoder(sample_hidden, sample_output)\n",
    "print('Decoder output shape: (batch_size, vocab size) {}'.format(sample_decoder_output.shape))"
   ]
  },
  {
   "cell_type": "markdown",
   "id": "ba543900",
   "metadata": {},
   "source": [
    "## 4. Training"
   ]
  },
  {
   "cell_type": "code",
   "execution_count": 19,
   "id": "793786e3",
   "metadata": {},
   "outputs": [],
   "source": [
    "optimizer = tf.keras.optimizers.Adam()\n",
    "loss_object = tf.keras.losses.BinaryCrossentropy(from_logits=True)\n",
    "\n",
    "def loss_function(real, pred):\n",
    "    loss_ = loss_object(real, pred)\n",
    "    return tf.reduce_mean(loss_)"
   ]
  },
  {
   "cell_type": "code",
   "execution_count": 20,
   "id": "5f11b93d",
   "metadata": {},
   "outputs": [],
   "source": [
    "checkpoint_dir = './checkpoints/sentiment-analysis'\n",
    "checkpoint_prefix = os.path.join(checkpoint_dir, \"ckpt\")\n",
    "checkpoint = tf.train.Checkpoint(optimizer=optimizer,\n",
    "                                 encoder=encoder,\n",
    "                                 decoder=decoder)"
   ]
  },
  {
   "cell_type": "code",
   "execution_count": 21,
   "id": "922574bd",
   "metadata": {},
   "outputs": [],
   "source": [
    "@tf.function\n",
    "def train_step(inp, targ, enc_hidden):\n",
    "    loss = 0\n",
    "\n",
    "    with tf.GradientTape() as tape:\n",
    "        enc_output, enc_hidden = encoder(inp, enc_hidden)\n",
    "\n",
    "        # passing enc_output to the decoder\n",
    "        predictions, _ = decoder(enc_hidden, enc_output)\n",
    "\n",
    "        loss = loss_function(targ, predictions)\n",
    "\n",
    "    # collect all trainable variables\n",
    "    variables = encoder.trainable_variables + decoder.trainable_variables\n",
    "\n",
    "    # calculate the gradients for the whole variables\n",
    "    gradients = tape.gradient(loss, variables)\n",
    "\n",
    "    # apply the gradients on the variables\n",
    "    optimizer.apply_gradients(zip(gradients, variables))\n",
    "\n",
    "    return loss\n"
   ]
  },
  {
   "cell_type": "code",
   "execution_count": 22,
   "id": "8df9c33d",
   "metadata": {},
   "outputs": [
    {
     "name": "stderr",
     "output_type": "stream",
     "text": [
      "2023-11-24 00:00:16.239674: I tensorflow/compiler/xla/service/service.cc:168] XLA service 0x55cfe1c0e9b0 initialized for platform CUDA (this does not guarantee that XLA will be used). Devices:\n",
      "2023-11-24 00:00:16.239705: I tensorflow/compiler/xla/service/service.cc:176]   StreamExecutor device (0): Tesla V100-SXM2-32GB, Compute Capability 7.0\n",
      "2023-11-24 00:00:16.322791: I ./tensorflow/compiler/jit/device_compiler.h:186] Compiled cluster using XLA!  This line is logged at most once for the lifetime of the process.\n",
      "2023-11-24 00:00:16.330332: I tensorflow/compiler/mlir/tensorflow/utils/dump_mlir_util.cc:255] disabling MLIR crash reproducer, set env var `MLIR_CRASH_REPRODUCER_DIRECTORY` to enable.\n"
     ]
    },
    {
     "name": "stdout",
     "output_type": "stream",
     "text": [
      "Epoch 1 Batch 0 Loss 0.6935\n",
      "Epoch 1 Batch 100 Loss 0.3252\n",
      "Epoch 1 Batch 200 Loss 0.4092\n",
      "Epoch 1 Batch 300 Loss 0.3431\n",
      "Epoch 1 Loss 0.3790\n",
      "Time taken for 1 epoch 52.545348167419434 sec\n",
      "\n",
      "Epoch 2 Batch 0 Loss 0.2820\n",
      "Epoch 2 Batch 100 Loss 0.1958\n",
      "Epoch 2 Batch 200 Loss 0.1628\n",
      "Epoch 2 Batch 300 Loss 0.2018\n",
      "Epoch 2 Loss 0.2545\n",
      "Time taken for 1 epoch 64.30935430526733 sec\n",
      "\n",
      "Epoch 3 Batch 0 Loss 0.1649\n",
      "Epoch 3 Batch 100 Loss 0.2227\n",
      "Epoch 3 Batch 200 Loss 0.2493\n",
      "Epoch 3 Batch 300 Loss 0.1472\n",
      "Epoch 3 Loss 0.1865\n",
      "Time taken for 1 epoch 21.681143283843994 sec\n",
      "\n",
      "Epoch 4 Batch 0 Loss 0.1301\n",
      "Epoch 4 Batch 100 Loss 0.1702\n",
      "Epoch 4 Batch 200 Loss 0.1103\n",
      "Epoch 4 Batch 300 Loss 0.1076\n",
      "Epoch 4 Loss 0.1284\n",
      "Time taken for 1 epoch 18.660581588745117 sec\n",
      "\n",
      "Epoch 5 Batch 0 Loss 0.0748\n",
      "Epoch 5 Batch 100 Loss 0.1060\n",
      "Epoch 5 Batch 200 Loss 0.0614\n",
      "Epoch 5 Batch 300 Loss 0.0771\n",
      "Epoch 5 Loss 0.0879\n",
      "Time taken for 1 epoch 17.294745206832886 sec\n",
      "\n",
      "Epoch 6 Batch 0 Loss 0.0349\n",
      "Epoch 6 Batch 100 Loss 0.1063\n",
      "Epoch 6 Batch 200 Loss 0.0200\n",
      "Epoch 6 Batch 300 Loss 0.0554\n",
      "Epoch 6 Loss 0.0576\n",
      "Time taken for 1 epoch 17.260191202163696 sec\n",
      "\n",
      "Epoch 7 Batch 0 Loss 0.0283\n",
      "Epoch 7 Batch 100 Loss 0.0415\n",
      "Epoch 7 Batch 200 Loss 0.0597\n",
      "Epoch 7 Batch 300 Loss 0.0147\n",
      "Epoch 7 Loss 0.0421\n",
      "Time taken for 1 epoch 16.392171621322632 sec\n",
      "\n",
      "Epoch 8 Batch 0 Loss 0.0263\n",
      "Epoch 8 Batch 100 Loss 0.0402\n",
      "Epoch 8 Batch 200 Loss 0.0238\n",
      "Epoch 8 Batch 300 Loss 0.0206\n",
      "Epoch 8 Loss 0.0386\n",
      "Time taken for 1 epoch 18.215287685394287 sec\n",
      "\n",
      "Epoch 9 Batch 0 Loss 0.0048\n",
      "Epoch 9 Batch 100 Loss 0.0401\n",
      "Epoch 9 Batch 200 Loss 0.0265\n",
      "Epoch 9 Batch 300 Loss 0.0610\n",
      "Epoch 9 Loss 0.0261\n",
      "Time taken for 1 epoch 16.17000961303711 sec\n",
      "\n",
      "Epoch 10 Batch 0 Loss 0.0093\n",
      "Epoch 10 Batch 100 Loss 0.0110\n",
      "Epoch 10 Batch 200 Loss 0.0118\n",
      "Epoch 10 Batch 300 Loss 0.0059\n",
      "Epoch 10 Loss 0.0248\n",
      "Time taken for 1 epoch 17.212955474853516 sec\n",
      "\n",
      "Epoch 11 Batch 0 Loss 0.0115\n",
      "Epoch 11 Batch 100 Loss 0.0201\n",
      "Epoch 11 Batch 200 Loss 0.0085\n",
      "Epoch 11 Batch 300 Loss 0.0389\n",
      "Epoch 11 Loss 0.0215\n",
      "Time taken for 1 epoch 16.964228868484497 sec\n",
      "\n",
      "Epoch 12 Batch 0 Loss 0.0296\n",
      "Epoch 12 Batch 100 Loss 0.0022\n",
      "Epoch 12 Batch 200 Loss 0.0110\n",
      "Epoch 12 Batch 300 Loss 0.0090\n",
      "Epoch 12 Loss 0.0234\n",
      "Time taken for 1 epoch 16.385490655899048 sec\n",
      "\n",
      "Epoch 13 Batch 0 Loss 0.0064\n",
      "Epoch 13 Batch 100 Loss 0.0055\n",
      "Epoch 13 Batch 200 Loss 0.0049\n",
      "Epoch 13 Batch 300 Loss 0.0258\n",
      "Epoch 13 Loss 0.0181\n",
      "Time taken for 1 epoch 15.94763731956482 sec\n",
      "\n",
      "Epoch 14 Batch 0 Loss 0.0379\n",
      "Epoch 14 Batch 100 Loss 0.0182\n",
      "Epoch 14 Batch 200 Loss 0.0010\n",
      "Epoch 14 Batch 300 Loss 0.0553\n",
      "Epoch 14 Loss 0.0157\n",
      "Time taken for 1 epoch 16.063583612442017 sec\n",
      "\n",
      "Epoch 15 Batch 0 Loss 0.0092\n",
      "Epoch 15 Batch 100 Loss 0.0582\n",
      "Epoch 15 Batch 200 Loss 0.0419\n",
      "Epoch 15 Batch 300 Loss 0.0161\n",
      "Epoch 15 Loss 0.0154\n",
      "Time taken for 1 epoch 16.465816259384155 sec\n",
      "\n",
      "Epoch 16 Batch 0 Loss 0.0399\n",
      "Epoch 16 Batch 100 Loss 0.0059\n",
      "Epoch 16 Batch 200 Loss 0.0042\n",
      "Epoch 16 Batch 300 Loss 0.0050\n",
      "Epoch 16 Loss 0.0193\n",
      "Time taken for 1 epoch 16.11275577545166 sec\n",
      "\n",
      "Epoch 17 Batch 0 Loss 0.0112\n",
      "Epoch 17 Batch 100 Loss 0.0042\n",
      "Epoch 17 Batch 200 Loss 0.0021\n",
      "Epoch 17 Batch 300 Loss 0.0102\n",
      "Epoch 17 Loss 0.0113\n",
      "Time taken for 1 epoch 16.412827968597412 sec\n",
      "\n",
      "Epoch 18 Batch 0 Loss 0.0007\n",
      "Epoch 18 Batch 100 Loss 0.0007\n",
      "Epoch 18 Batch 200 Loss 0.0055\n",
      "Epoch 18 Batch 300 Loss 0.0049\n",
      "Epoch 18 Loss 0.0122\n",
      "Time taken for 1 epoch 16.04217219352722 sec\n",
      "\n",
      "Epoch 19 Batch 0 Loss 0.0199\n",
      "Epoch 19 Batch 100 Loss 0.0023\n",
      "Epoch 19 Batch 200 Loss 0.0022\n",
      "Epoch 19 Batch 300 Loss 0.0032\n",
      "Epoch 19 Loss 0.0122\n",
      "Time taken for 1 epoch 15.744091510772705 sec\n",
      "\n",
      "Epoch 20 Batch 0 Loss 0.0005\n",
      "Epoch 20 Batch 100 Loss 0.0000\n",
      "Epoch 20 Batch 200 Loss 0.0178\n",
      "Epoch 20 Batch 300 Loss 0.0005\n",
      "Epoch 20 Loss 0.0107\n",
      "Time taken for 1 epoch 16.42697501182556 sec\n",
      "\n"
     ]
    }
   ],
   "source": [
    "# set the epochs for training\n",
    "EPOCHS = 20\n",
    "\n",
    "for epoch in range(EPOCHS):\n",
    "    start = time.time()\n",
    "\n",
    "    # get the initial hidden state of gru\n",
    "    enc_hidden = encoder.initialize_hidden_state()\n",
    "    total_loss = 0\n",
    "\n",
    "    for (batch, (inp, targ)) in enumerate(dataset.take(steps_per_epoch)):\n",
    "        batch_loss = train_step(inp, targ, enc_hidden)\n",
    "        total_loss += batch_loss\n",
    "\n",
    "        if batch % 100 == 0:\n",
    "            print('Epoch {} Batch {} Loss {:.4f}'.format(epoch + 1,\n",
    "                                                         batch,\n",
    "                                                         batch_loss.numpy()))\n",
    "\n",
    "    # saving (checkpoint) the model every 2 epochs\n",
    "    if (epoch + 1) % 2 == 0:\n",
    "        checkpoint.save(file_prefix=checkpoint_prefix)\n",
    "\n",
    "    print('Epoch {} Loss {:.4f}'.format(epoch + 1,\n",
    "                                        total_loss / steps_per_epoch))\n",
    "    print('Time taken for 1 epoch {} sec\\n'.format(time.time() - start))"
   ]
  },
  {
   "cell_type": "code",
   "execution_count": 23,
   "id": "2348306e",
   "metadata": {},
   "outputs": [
    {
     "name": "stdout",
     "output_type": "stream",
     "text": [
      "./checkpoints/sentiment-analysis/ckpt-10\n"
     ]
    },
    {
     "data": {
      "text/plain": [
       "<tensorflow.python.checkpoint.checkpoint.CheckpointLoadStatus at 0x7f8a6d643190>"
      ]
     },
     "execution_count": 23,
     "metadata": {},
     "output_type": "execute_result"
    }
   ],
   "source": [
    "print(tf.train.latest_checkpoint(checkpoint_dir))\n",
    "# restoring the latest checkpoint in checkpoint_dir\n",
    "checkpoint.restore(tf.train.latest_checkpoint(checkpoint_dir))"
   ]
  },
  {
   "cell_type": "markdown",
   "id": "aad684d8",
   "metadata": {},
   "source": [
    "## 5. Testing"
   ]
  },
  {
   "cell_type": "code",
   "execution_count": 24,
   "id": "32be38ff",
   "metadata": {},
   "outputs": [],
   "source": [
    "@tf.function\n",
    "def test_step(inp, enc_hidden):\n",
    "    with tf.GradientTape() as tape:\n",
    "        enc_output, enc_hidden = encoder(inp, enc_hidden)\n",
    "        predictions, attention_weights = decoder(enc_hidden, enc_output)\n",
    "    return predictions, attention_weights"
   ]
  },
  {
   "cell_type": "code",
   "execution_count": 25,
   "id": "bb8dfca7",
   "metadata": {},
   "outputs": [],
   "source": [
    "def evaluate(test_data):\n",
    "    enc_hidden = encoder.initialize_hidden_state()\n",
    "    \n",
    "    for batch, (inp, targ) in enumerate(test_data):\n",
    "        if len(inp) != BATCH_SIZE:\n",
    "            enc_hidden = tf.zeros((len(inp), units))\n",
    "        # make prediction\n",
    "        if batch == 0:\n",
    "            predictions, attention_weights = test_step(inp, enc_hidden)\n",
    "            predictions, attention_weights = predictions.numpy(), attention_weights.numpy()\n",
    "        else:\n",
    "            _predictions, _attention_weights = test_step(inp, enc_hidden)\n",
    "            _predictions, _attention_weights = _predictions.numpy(), _attention_weights.numpy()\n",
    "            predictions = np.concatenate((predictions, _predictions))\n",
    "            attention_weights = np.concatenate((attention_weights, _attention_weights))\n",
    "    \n",
    "    predictions = np.squeeze(predictions)\n",
    "    attention_weights = np.squeeze(attention_weights)\n",
    "    predictions[np.where(predictions < 0.5)] = 0\n",
    "    predictions[np.where(predictions >= 0.5)] = 1\n",
    "    return predictions, attention_weights"
   ]
  },
  {
   "cell_type": "code",
   "execution_count": 26,
   "id": "778085f9",
   "metadata": {},
   "outputs": [
    {
     "name": "stdout",
     "output_type": "stream",
     "text": [
      "Accuracy:  0.8403\n"
     ]
    }
   ],
   "source": [
    "y_pred, attention_weights = evaluate(test_dataset)\n",
    "\n",
    "print('Accuracy: ', (y_pred == y_test).sum() / len(y_test))"
   ]
  },
  {
   "cell_type": "markdown",
   "id": "12f9951e",
   "metadata": {},
   "source": [
    "## 6. Visualizing"
   ]
  },
  {
   "cell_type": "code",
   "execution_count": 27,
   "id": "08c94495",
   "metadata": {},
   "outputs": [
    {
     "name": "stdout",
     "output_type": "stream",
     "text": [
      "y_true: 1\n",
      "y_predict: 0\n",
      "\u001b[31mchanged\u001b[0m it was \u001b[31mterrible\u001b[0m main event \u001b[31mjust\u001b[0m like \u001b[31mevery\u001b[0m match is in is terrible other matches on the \u001b[31mcard\u001b[0m \u001b[31mwere\u001b[0m razor ramon vs ted brothers vs bodies shawn michaels vs this was the event where shawn named his big monster of body guard vs kid hart first takes on then takes on jerry and stuff with the and was always very interesting then destroyed marty undertaker took on giant in another \u001b[31mterrible\u001b[0m match the smoking and took on bam bam and the and the world title \u001b[31magainst\u001b[0m lex this match was \u001b[31mboring\u001b[0m and it has \u001b[31mterrible\u001b[0m ending however it deserves \n",
      "\n",
      "\n",
      "y_true: 1\n",
      "y_predict: 1\n",
      "of subject matter as are and broken in many ways on many \u001b[31mmany\u001b[0m \u001b[31missues\u001b[0m happened to see the pilot premiere in passing \u001b[31mand\u001b[0m just had to keep in after that to see if would ever get the \u001b[31mgirl\u001b[0m after seeing them \u001b[31mall\u001b[0m on television was \u001b[31mdelighted\u001b[0m to see them available on \u001b[31mdvd\u001b[0m have to admit that it was the only thing that kept \u001b[31mme\u001b[0m sane whilst had to do hour night \u001b[31mshift\u001b[0m \u001b[31mand\u001b[0m developed insomnia farscape was the only thing to get me through those extremely long nights do yourself favour watch the pilot and see what mean farscape comet \n",
      "\n",
      "\n",
      "y_true: 0\n",
      "y_predict: 0\n",
      "destruction the first really bad thing is the guy steven seagal would have been beaten to pulp by \u001b[31mseagal\u001b[0m \u001b[31mdriving\u001b[0m but that probably would have ended the whole premise for the movie it seems like they decided to make all kinds of changes in the movie \u001b[31mplot\u001b[0m so \u001b[31mjust\u001b[0m \u001b[31mplan\u001b[0m to enjoy the \u001b[31maction\u001b[0m and do not expect coherent plot turn any sense of \u001b[31mlogic\u001b[0m you may have it will your chance of getting headache does give me some hope that steven \u001b[31mseagal\u001b[0m \u001b[31mis\u001b[0m \u001b[31mtrying\u001b[0m to move back towards the type of characters he portrayed in his more popular movies \n",
      "\n",
      "\n",
      "y_true: 1\n",
      "y_predict: 1\n",
      "jane austen would definitely of this one paltrow does an \u001b[31mawesome\u001b[0m job \u001b[31mcapturing\u001b[0m the attitude of emma she is funny without being silly yet elegant she puts on very convincing british accent not being british myself maybe m not the best judge but she fooled me she was also \u001b[31mexcellent\u001b[0m \u001b[31min\u001b[0m doors sometimes forget \u001b[31mshe\u001b[0m american also brilliant are jeremy \u001b[31mnortham\u001b[0m and \u001b[31msophie\u001b[0m \u001b[31mthompson\u001b[0m \u001b[31mand\u001b[0m law emma thompson sister and mother as the bates women they nearly steal the show and ms law doesn even have any lines highly \u001b[31mrecommended\u001b[0m \n",
      "\n",
      "\n",
      "y_true: 0\n",
      "y_predict: 0\n",
      "\u001b[31mreaches\u001b[0m the point where they become obnoxious and simply \u001b[31mfrustrating\u001b[0m touch football puzzle family and talent shows are not how actual people behave it almost sickening another big flaw is the woman carell is \u001b[31msupposed\u001b[0m \u001b[31mto\u001b[0m \u001b[31mbe\u001b[0m \u001b[31mfalling\u001b[0m for \u001b[31mher\u001b[0m in her first scene with steve carell is like watching stroke victim trying to be what imagine is \u001b[31msupposed\u001b[0m \u001b[31mto\u001b[0m \u001b[31mbe\u001b[0m unique and original in this woman comes off as mildly retarded it makes me think that this movie is taking place on another planet left the theater wondering what just saw after thinking further don think it was much \n",
      "\n",
      "\n",
      "y_true: 1\n",
      "y_predict: 1\n",
      "the pace quick and energetic \u001b[31mbut\u001b[0m most importantly he \u001b[31mknows\u001b[0m \u001b[31mhow\u001b[0m to make comedy funny he doesn the jokes and he understands that funny actors know what they re doing and he allows them \u001b[31mto\u001b[0m do it but segal goes step further he gives tommy boy \u001b[31mfriendly\u001b[0m almost nostalgic tone that both the genuinely and the \u001b[31mcritics\u001b[0m \u001b[31mdidn\u001b[0m like tommy \u001b[31mboy\u001b[0m shame on them movie doesn have to be super sophisticated or intellectual to be funny god \u001b[31mfarley\u001b[0m \u001b[31mand\u001b[0m spade were forced to do muted comedy la the office this is great movie and one of my all time favorites \n",
      "\n",
      "\n",
      "y_true: 1\n",
      "y_predict: 1\n",
      "for once story of hope over the tragic reality our youth face rising draws one into scary and unfair world and shows through beautiful color and moving music how one man and his dedicated friends choose not to accept that world and change it through action and art an entertaining interesting emotional beautiful film \u001b[31mshowed\u001b[0m \u001b[31mthis\u001b[0m film to \u001b[31mnumerous\u001b[0m \u001b[31mhigh\u001b[0m school students as \u001b[31mwell\u001b[0m \u001b[31mwho\u001b[0m all live in with poverty \u001b[31mand\u001b[0m and gun violence and they were with \u001b[31manderson\u001b[0m the protagonist recommend this film to all \u001b[31mages\u001b[0m over due to subtitles and some images of death from all \u001b[31mbackgrounds\u001b[0m \n",
      "\n",
      "\n",
      "y_true: 1\n",
      "y_predict: 0\n",
      "people and \u001b[31msleeping\u001b[0m around that he kept secret from \u001b[31mmost\u001b[0m people he feels free to have an \u001b[31maffair\u001b[0m with \u001b[31mquasi\u001b[0m \u001b[31mbecause\u001b[0m he kevin he figures out that he can fool some people with cards like hotel but it won get him out of those the of heaven are keeping track of him and everything he does after reading all the theories on though it seems like identity is \u001b[31mreminder\u001b[0m \u001b[31mof\u001b[0m \u001b[31mthe\u001b[0m \u001b[31mdifferent\u001b[0m paths tony could ve taken in his life \u001b[31mpossibly\u001b[0m along with the car joke involving that made no sense to me otherwise at that point my brain out \n",
      "\n",
      "\n",
      "y_true: 0\n",
      "y_predict: 0\n",
      "over again can remember how many times he said the universe is made out of tiny little strings it like they \u001b[31mwere\u001b[0m trying to us into \u001b[31mjust\u001b[0m accepting are the best thing since bread finally the show \u001b[31mended\u001b[0m off with an unpleasant sense of competition between and clearly biased towards this is \u001b[31msupposed\u001b[0m \u001b[31mto\u001b[0m \u001b[31mbe\u001b[0m an educational program about \u001b[31mquantum\u001b[0m physics not about whether the us is better than \u001b[31meurope\u001b[0m or \u001b[31mvice\u001b[0m \u001b[31mversa\u001b[0m also felt that was part of the audiences need to see some conflict to remain interested please give me little more credit than that overall thumbs down \n",
      "\n",
      "\n",
      "y_true: 0\n",
      "y_predict: 0\n",
      "the scenes involving joe character in particular the scenes in the terribly \u001b[31mclich\u001b[0m but still funny rich but screwed up characters house where the story towards it final moments can see how was great stage play and while the film makers did their best to translate this to celluloid \u001b[31mit\u001b[0m simply didn work \u001b[31mand\u001b[0m \u001b[31mwhile\u001b[0m \u001b[31mlaughed\u001b[0m \u001b[31mout\u001b[0m \u001b[31mloud\u001b[0m at some of scenes and \u001b[31mone\u001b[0m liners think \u001b[31mthe\u001b[0m \u001b[31mfirst\u001b[0m minutes my senses and expectations to such degree would have laughed at anything unless you re stuck for novelty coffee coaster don pick this up if you see it in bargain bucket \n",
      "\n",
      "\n"
     ]
    }
   ],
   "source": [
    "from termcolor import colored\n",
    "\n",
    "for idx, data in enumerate(X_test[:10]):\n",
    "    print('y_true: {:d}'.format(y_test[idx]))\n",
    "    print('y_predict: {:.0f}'.format(y_pred[idx]))\n",
    "    \n",
    "    # get the twenty most largest attention weights\n",
    "    large_weights_idx = np.argsort(attention_weights[idx])[::-1][:10]\n",
    "    \n",
    "    for _idx in range(len(data)):\n",
    "        word_idx = data[_idx]\n",
    "        if word_idx != 0:\n",
    "            if _idx in large_weights_idx:\n",
    "                print(colored(tokenizer.index_word[word_idx], 'red'), end=' ')\n",
    "                # try this if termcolor is not working properly\n",
    "                # print(f'\\033[31m{tokenizer.index_word[word_idx]}\\033[0m', end=' ')\n",
    "            else:\n",
    "                print(tokenizer.index_word[word_idx], end=' ')\n",
    "    print(\"\\n\\n\")"
   ]
  }
 ],
 "metadata": {
  "kernelspec": {
   "display_name": "Python 3 (ipykernel)",
   "language": "python",
   "name": "python3"
  },
  "language_info": {
   "codemirror_mode": {
    "name": "ipython",
    "version": 3
   },
   "file_extension": ".py",
   "mimetype": "text/x-python",
   "name": "python",
   "nbconvert_exporter": "python",
   "pygments_lexer": "ipython3",
   "version": "3.10.12"
  }
 },
 "nbformat": 4,
 "nbformat_minor": 5
}
